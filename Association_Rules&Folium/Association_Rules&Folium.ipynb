{
 "cells": [
  {
   "cell_type": "markdown",
   "metadata": {},
   "source": [
    "### <center>Real estate valuation</center>"
   ]
  },
  {
   "cell_type": "markdown",
   "metadata": {},
   "source": [
    "<div class=\"alert alert-block alert-info\">    \n",
    "    The possibility of using algorithms <b>ariori</b>, <b>eclat</b> to generate extra features in order to improve the efficiency of the predictive model.\n",
    "</div>"
   ]
  },
  {
   "cell_type": "markdown",
   "metadata": {},
   "source": [
    "__[Real estate valuation Data Set](https://archive.ics.uci.edu/ml/datasets/Real+estate+valuation+data+set)__ was used for this notebook. Data Set contains real estate appraisal data collected for Sindian Dist., New Taipei City, Taiwan.\n",
    "\n",
    "Citation Request: \n",
    "Yeh, I. C., & Hsu, T. K. (2018). Building real estate valuation models with comparative approach through case-based reasoning. Applied Soft Computing, 65, 260-271."
   ]
  },
  {
   "cell_type": "code",
   "execution_count": 1,
   "metadata": {},
   "outputs": [],
   "source": [
    "from folium_utils import *\n",
    "\n",
    "import numpy as np\n",
    "import pandas as pd\n",
    "\n",
    "import gc\n",
    "\n",
    "pd.set_option('display.notebook_repr_html', True)\n",
    "pd.set_option('display.max_columns', 40)\n",
    "pd.set_option('display.max_rows', 30)\n",
    "pd.set_option('display.width', 100)\n",
    "\n",
    "from scipy import stats\n",
    "from scipy.stats import normaltest, norm\n",
    "\n",
    "from sklearn.preprocessing import MinMaxScaler\n",
    "\n",
    "from patsy import dmatrices\n",
    "\n",
    "from sklearn.linear_model import LinearRegression\n",
    "from sklearn.ensemble import RandomForestRegressor\n",
    "\n",
    "from sklearn.metrics import mean_squared_error, r2_score\n",
    "from statsmodels.stats.outliers_influence import variance_inflation_factor\n",
    "\n",
    "import folium\n",
    "\n",
    "from IPython.display import IFrame\n",
    "\n",
    "from mlxtend.frequent_patterns import fpgrowth\n",
    "from mlxtend.frequent_patterns import apriori, association_rules\n",
    "\n",
    "import itertools\n",
    "\n",
    "from IPython.core.interactiveshell import InteractiveShell \n",
    "InteractiveShell.ast_node_interactivity = \"all\"\n",
    "\n",
    "import seaborn as sns\n",
    "import matplotlib.pyplot as plt\n",
    "plt.style.use(['seaborn-darkgrid'])\n",
    "%matplotlib inline\n",
    "\n",
    "import warnings\n",
    "warnings.simplefilter('ignore')"
   ]
  },
  {
   "cell_type": "code",
   "execution_count": 2,
   "metadata": {},
   "outputs": [],
   "source": [
    "df = pd.read_csv('Real_Estate.csv')"
   ]
  },
  {
   "cell_type": "code",
   "execution_count": 3,
   "metadata": {},
   "outputs": [
    {
     "name": "stdout",
     "output_type": "stream",
     "text": [
      "<class 'pandas.core.frame.DataFrame'>\n",
      "RangeIndex: 414 entries, 0 to 413\n",
      "Data columns (total 8 columns):\n",
      " #   Column                                  Non-Null Count  Dtype  \n",
      "---  ------                                  --------------  -----  \n",
      " 0   No                                      414 non-null    int64  \n",
      " 1   X1 transaction date                     414 non-null    float64\n",
      " 2   X2 house age                            414 non-null    float64\n",
      " 3   X3 distance to the nearest MRT station  414 non-null    float64\n",
      " 4   X4 number of convenience stores         414 non-null    int64  \n",
      " 5   X5 latitude                             414 non-null    float64\n",
      " 6   X6 longitude                            414 non-null    float64\n",
      " 7   Y house price of unit area              414 non-null    float64\n",
      "dtypes: float64(6), int64(2)\n",
      "memory usage: 26.0 KB\n"
     ]
    }
   ],
   "source": [
    "df.info()"
   ]
  },
  {
   "cell_type": "markdown",
   "metadata": {},
   "source": [
    "#### Attribute Information:<a id=\"2\"></a>\n",
    "\n",
    "**The inputs are as follows**: \n",
    "* **'X1 transaction date'** - the transaction date (for example, 2013.250=2013 March, 2013.500=2013 June, etc.)\n",
    "* **'X2 house age'** - the house age (unit: year)\n",
    "* **'X3 distance to the nearest MRT station'** - the distance to the nearest MRT station (unit: meter)(__[Mass Rapid Transit](https://en.wikipedia.org/wiki/Taipei_Metro)__)\n",
    "* **'X4 number of convenience stores'** - the number of convenience stores in the living circle on foot (integer)\n",
    "* **'X5 latitude'** - the geographic coordinate, latitude. (unit: degree)\n",
    "* **'X6 longitude'** - the geographic coordinate, longitude. (unit: degree)\n",
    "\n",
    "**The output is as follow**:\n",
    "* **'Y house price of unit area'** - house price of unit area (10000 New Taiwan Dollar/Ping, where Ping is a local unit, 1 Ping = 3.3 meter squared)"
   ]
  },
  {
   "cell_type": "code",
   "execution_count": 4,
   "metadata": {},
   "outputs": [
    {
     "data": {
      "text/html": [
       "<div>\n",
       "<style scoped>\n",
       "    .dataframe tbody tr th:only-of-type {\n",
       "        vertical-align: middle;\n",
       "    }\n",
       "\n",
       "    .dataframe tbody tr th {\n",
       "        vertical-align: top;\n",
       "    }\n",
       "\n",
       "    .dataframe thead th {\n",
       "        text-align: right;\n",
       "    }\n",
       "</style>\n",
       "<table border=\"1\" class=\"dataframe\">\n",
       "  <thead>\n",
       "    <tr style=\"text-align: right;\">\n",
       "      <th></th>\n",
       "      <th>No</th>\n",
       "      <th>X1 transaction date</th>\n",
       "      <th>X2 house age</th>\n",
       "      <th>X3 distance to the nearest MRT station</th>\n",
       "      <th>X4 number of convenience stores</th>\n",
       "      <th>X5 latitude</th>\n",
       "      <th>X6 longitude</th>\n",
       "      <th>Y house price of unit area</th>\n",
       "    </tr>\n",
       "  </thead>\n",
       "  <tbody>\n",
       "    <tr>\n",
       "      <th>0</th>\n",
       "      <td>1</td>\n",
       "      <td>2012.916667</td>\n",
       "      <td>32.0</td>\n",
       "      <td>84.87882</td>\n",
       "      <td>10</td>\n",
       "      <td>24.98298</td>\n",
       "      <td>121.54024</td>\n",
       "      <td>37.9</td>\n",
       "    </tr>\n",
       "    <tr>\n",
       "      <th>1</th>\n",
       "      <td>2</td>\n",
       "      <td>2012.916667</td>\n",
       "      <td>19.5</td>\n",
       "      <td>306.59470</td>\n",
       "      <td>9</td>\n",
       "      <td>24.98034</td>\n",
       "      <td>121.53951</td>\n",
       "      <td>42.2</td>\n",
       "    </tr>\n",
       "    <tr>\n",
       "      <th>2</th>\n",
       "      <td>3</td>\n",
       "      <td>2013.583333</td>\n",
       "      <td>13.3</td>\n",
       "      <td>561.98450</td>\n",
       "      <td>5</td>\n",
       "      <td>24.98746</td>\n",
       "      <td>121.54391</td>\n",
       "      <td>47.3</td>\n",
       "    </tr>\n",
       "    <tr>\n",
       "      <th>3</th>\n",
       "      <td>4</td>\n",
       "      <td>2013.500000</td>\n",
       "      <td>13.3</td>\n",
       "      <td>561.98450</td>\n",
       "      <td>5</td>\n",
       "      <td>24.98746</td>\n",
       "      <td>121.54391</td>\n",
       "      <td>54.8</td>\n",
       "    </tr>\n",
       "    <tr>\n",
       "      <th>4</th>\n",
       "      <td>5</td>\n",
       "      <td>2012.833333</td>\n",
       "      <td>5.0</td>\n",
       "      <td>390.56840</td>\n",
       "      <td>5</td>\n",
       "      <td>24.97937</td>\n",
       "      <td>121.54245</td>\n",
       "      <td>43.1</td>\n",
       "    </tr>\n",
       "  </tbody>\n",
       "</table>\n",
       "</div>"
      ],
      "text/plain": [
       "   No  X1 transaction date  X2 house age  X3 distance to the nearest MRT station  \\\n",
       "0   1          2012.916667          32.0                                84.87882   \n",
       "1   2          2012.916667          19.5                               306.59470   \n",
       "2   3          2013.583333          13.3                               561.98450   \n",
       "3   4          2013.500000          13.3                               561.98450   \n",
       "4   5          2012.833333           5.0                               390.56840   \n",
       "\n",
       "   X4 number of convenience stores  X5 latitude  X6 longitude  Y house price of unit area  \n",
       "0                               10     24.98298     121.54024                        37.9  \n",
       "1                                9     24.98034     121.53951                        42.2  \n",
       "2                                5     24.98746     121.54391                        47.3  \n",
       "3                                5     24.98746     121.54391                        54.8  \n",
       "4                                5     24.97937     121.54245                        43.1  "
      ]
     },
     "execution_count": 4,
     "metadata": {},
     "output_type": "execute_result"
    }
   ],
   "source": [
    "df.head()"
   ]
  },
  {
   "cell_type": "code",
   "execution_count": 5,
   "metadata": {},
   "outputs": [],
   "source": [
    "df = df.drop('No', axis=1)"
   ]
  },
  {
   "cell_type": "markdown",
   "metadata": {},
   "source": [
    "Rename features for convenience:"
   ]
  },
  {
   "cell_type": "code",
   "execution_count": 6,
   "metadata": {},
   "outputs": [],
   "source": [
    "df.columns = ['trans_date', 'house_age', 'dist_mrt', 'num_stores', 'latitude', 'longitude', 'price']"
   ]
  },
  {
   "cell_type": "code",
   "execution_count": 7,
   "metadata": {},
   "outputs": [
    {
     "data": {
      "text/plain": [
       "(414, 7)"
      ]
     },
     "execution_count": 7,
     "metadata": {},
     "output_type": "execute_result"
    }
   ],
   "source": [
    "df.shape"
   ]
  },
  {
   "cell_type": "code",
   "execution_count": 8,
   "metadata": {},
   "outputs": [
    {
     "data": {
      "text/plain": [
       "trans_date    0\n",
       "house_age     0\n",
       "dist_mrt      0\n",
       "num_stores    0\n",
       "latitude      0\n",
       "longitude     0\n",
       "price         0\n",
       "dtype: int64"
      ]
     },
     "execution_count": 8,
     "metadata": {},
     "output_type": "execute_result"
    }
   ],
   "source": [
    "df.isnull().sum()"
   ]
  },
  {
   "cell_type": "markdown",
   "metadata": {},
   "source": [
    "#### EDA<a id=\"2\"></a>"
   ]
  },
  {
   "cell_type": "code",
   "execution_count": 9,
   "metadata": {},
   "outputs": [
    {
     "data": {
      "text/html": [
       "<div>\n",
       "<style scoped>\n",
       "    .dataframe tbody tr th:only-of-type {\n",
       "        vertical-align: middle;\n",
       "    }\n",
       "\n",
       "    .dataframe tbody tr th {\n",
       "        vertical-align: top;\n",
       "    }\n",
       "\n",
       "    .dataframe thead th {\n",
       "        text-align: right;\n",
       "    }\n",
       "</style>\n",
       "<table border=\"1\" class=\"dataframe\">\n",
       "  <thead>\n",
       "    <tr style=\"text-align: right;\">\n",
       "      <th></th>\n",
       "      <th>count</th>\n",
       "      <th>mean</th>\n",
       "      <th>std</th>\n",
       "      <th>min</th>\n",
       "      <th>25%</th>\n",
       "      <th>50%</th>\n",
       "      <th>75%</th>\n",
       "      <th>max</th>\n",
       "    </tr>\n",
       "  </thead>\n",
       "  <tbody>\n",
       "    <tr>\n",
       "      <th>trans_date</th>\n",
       "      <td>414.0</td>\n",
       "      <td>2013.148953</td>\n",
       "      <td>0.281995</td>\n",
       "      <td>2012.666667</td>\n",
       "      <td>2012.916667</td>\n",
       "      <td>2013.166667</td>\n",
       "      <td>2013.416667</td>\n",
       "      <td>2013.583333</td>\n",
       "    </tr>\n",
       "    <tr>\n",
       "      <th>house_age</th>\n",
       "      <td>414.0</td>\n",
       "      <td>17.712560</td>\n",
       "      <td>11.392485</td>\n",
       "      <td>0.000000</td>\n",
       "      <td>9.025000</td>\n",
       "      <td>16.100000</td>\n",
       "      <td>28.150000</td>\n",
       "      <td>43.800000</td>\n",
       "    </tr>\n",
       "    <tr>\n",
       "      <th>dist_mrt</th>\n",
       "      <td>414.0</td>\n",
       "      <td>1083.885689</td>\n",
       "      <td>1262.109595</td>\n",
       "      <td>23.382840</td>\n",
       "      <td>289.324800</td>\n",
       "      <td>492.231300</td>\n",
       "      <td>1454.279000</td>\n",
       "      <td>6488.021000</td>\n",
       "    </tr>\n",
       "    <tr>\n",
       "      <th>num_stores</th>\n",
       "      <td>414.0</td>\n",
       "      <td>4.094203</td>\n",
       "      <td>2.945562</td>\n",
       "      <td>0.000000</td>\n",
       "      <td>1.000000</td>\n",
       "      <td>4.000000</td>\n",
       "      <td>6.000000</td>\n",
       "      <td>10.000000</td>\n",
       "    </tr>\n",
       "    <tr>\n",
       "      <th>latitude</th>\n",
       "      <td>414.0</td>\n",
       "      <td>24.969030</td>\n",
       "      <td>0.012410</td>\n",
       "      <td>24.932070</td>\n",
       "      <td>24.963000</td>\n",
       "      <td>24.971100</td>\n",
       "      <td>24.977455</td>\n",
       "      <td>25.014590</td>\n",
       "    </tr>\n",
       "    <tr>\n",
       "      <th>longitude</th>\n",
       "      <td>414.0</td>\n",
       "      <td>121.533361</td>\n",
       "      <td>0.015347</td>\n",
       "      <td>121.473530</td>\n",
       "      <td>121.528085</td>\n",
       "      <td>121.538630</td>\n",
       "      <td>121.543305</td>\n",
       "      <td>121.566270</td>\n",
       "    </tr>\n",
       "    <tr>\n",
       "      <th>price</th>\n",
       "      <td>414.0</td>\n",
       "      <td>37.980193</td>\n",
       "      <td>13.606488</td>\n",
       "      <td>7.600000</td>\n",
       "      <td>27.700000</td>\n",
       "      <td>38.450000</td>\n",
       "      <td>46.600000</td>\n",
       "      <td>117.500000</td>\n",
       "    </tr>\n",
       "  </tbody>\n",
       "</table>\n",
       "</div>"
      ],
      "text/plain": [
       "            count         mean          std          min          25%          50%          75%  \\\n",
       "trans_date  414.0  2013.148953     0.281995  2012.666667  2012.916667  2013.166667  2013.416667   \n",
       "house_age   414.0    17.712560    11.392485     0.000000     9.025000    16.100000    28.150000   \n",
       "dist_mrt    414.0  1083.885689  1262.109595    23.382840   289.324800   492.231300  1454.279000   \n",
       "num_stores  414.0     4.094203     2.945562     0.000000     1.000000     4.000000     6.000000   \n",
       "latitude    414.0    24.969030     0.012410    24.932070    24.963000    24.971100    24.977455   \n",
       "longitude   414.0   121.533361     0.015347   121.473530   121.528085   121.538630   121.543305   \n",
       "price       414.0    37.980193    13.606488     7.600000    27.700000    38.450000    46.600000   \n",
       "\n",
       "                    max  \n",
       "trans_date  2013.583333  \n",
       "house_age     43.800000  \n",
       "dist_mrt    6488.021000  \n",
       "num_stores    10.000000  \n",
       "latitude      25.014590  \n",
       "longitude    121.566270  \n",
       "price        117.500000  "
      ]
     },
     "execution_count": 9,
     "metadata": {},
     "output_type": "execute_result"
    }
   ],
   "source": [
    "df.describe().T"
   ]
  },
  {
   "cell_type": "code",
   "execution_count": 10,
   "metadata": {},
   "outputs": [
    {
     "data": {
      "image/png": "[encoded data removed]",
      "text/plain": [
       "<Figure size 576x432 with 2 Axes>"
      ]
     },
     "metadata": {
      "needs_background": "light"
     },
     "output_type": "display_data"
    }
   ],
   "source": [
    "plt.figure(figsize=(8,6))\n",
    "corr = df.corr(method='spearman')\n",
    "sns.heatmap(corr, annot=True, linewidths=1);"
   ]
  },
  {
   "cell_type": "markdown",
   "metadata": {},
   "source": [
    "Create new feature `class` based on the `price`:"
   ]
  },
  {
   "cell_type": "code",
   "execution_count": 11,
   "metadata": {},
   "outputs": [
    {
     "data": {
      "text/plain": [
       "2    209\n",
       "1    103\n",
       "3    102\n",
       "Name: class, dtype: int64"
      ]
     },
     "execution_count": 11,
     "metadata": {},
     "output_type": "execute_result"
    }
   ],
   "source": [
    "df['class'] = [1 if x < 27.7 else 3 if x > 46.6 else 2 for x in df.price]\n",
    "df['class'] = df['class'].astype(\"object\")\n",
    "df['class'].value_counts()"
   ]
  },
  {
   "cell_type": "code",
   "execution_count": 13,
   "metadata": {},
   "outputs": [
    {
     "data": {
      "image/png": "[encoded data removed]",
      "text/plain": [
       "<Figure size 1553.62x1512 with 56 Axes>"
      ]
     },
     "metadata": {
      "needs_background": "light"
     },
     "output_type": "display_data"
    }
   ],
   "source": [
    "sns.pairplot(df.drop('price', axis=1), hue=\"class\", height=3);"
   ]
  },
  {
   "cell_type": "code",
   "execution_count": 14,
   "metadata": {},
   "outputs": [],
   "source": [
    "df = df.drop('class', axis=1)"
   ]
  },
  {
   "cell_type": "markdown",
   "metadata": {},
   "source": [
    "#### ***Visualization (`folium`)***"
   ]
  },
  {
   "cell_type": "code",
   "execution_count": 15,
   "metadata": {},
   "outputs": [],
   "source": [
    "clear_map = folium.Map(\n",
    "    location=[25.0,121.5],\n",
    "    width=500, height=500,\n",
    "    tiles='Stamen Terrain', \n",
    "    zoom_start=11\n",
    ")\n",
    "clear_map.save(\"html/clear_map.html\")"
   ]
  },
  {
   "cell_type": "markdown",
   "metadata": {},
   "source": [
    "Base map:"
   ]
  },
  {
   "cell_type": "code",
   "execution_count": 16,
   "metadata": {},
   "outputs": [
    {
     "data": {
      "text/html": [
       "\n",
       "        <iframe\n",
       "            width=\"500\"\n",
       "            height=\"500\"\n",
       "            src=\"html/clear_map.html\"\n",
       "            frameborder=\"0\"\n",
       "            allowfullscreen\n",
       "        ></iframe>\n",
       "        "
      ],
      "text/plain": [
       "<IPython.lib.display.IFrame at 0x1d0b472fc88>"
      ]
     },
     "execution_count": 16,
     "metadata": {},
     "output_type": "execute_result"
    }
   ],
   "source": [
    "IFrame(src='html/clear_map.html', width=500, height=500)"
   ]
  },
  {
   "cell_type": "code",
   "execution_count": 17,
   "metadata": {},
   "outputs": [],
   "source": [
    "price_folium_map(df)"
   ]
  },
  {
   "cell_type": "markdown",
   "metadata": {},
   "source": [
    "**House price of unit area** - from red (high) to yellow (low):"
   ]
  },
  {
   "cell_type": "code",
   "execution_count": 18,
   "metadata": {},
   "outputs": [
    {
     "data": {
      "text/html": [
       "\n",
       "        <iframe\n",
       "            width=\"600\"\n",
       "            height=\"500\"\n",
       "            src=\"html/price_map.html\"\n",
       "            frameborder=\"0\"\n",
       "            allowfullscreen\n",
       "        ></iframe>\n",
       "        "
      ],
      "text/plain": [
       "<IPython.lib.display.IFrame at 0x1d0b1a61d88>"
      ]
     },
     "execution_count": 18,
     "metadata": {},
     "output_type": "execute_result"
    }
   ],
   "source": [
    "IFrame(src='html/price_map.html', width=600, height=500)"
   ]
  },
  {
   "cell_type": "code",
   "execution_count": 19,
   "metadata": {},
   "outputs": [],
   "source": [
    "stores_folium_map(df)"
   ]
  },
  {
   "cell_type": "markdown",
   "metadata": {},
   "source": [
    "**The number of convenience stores in the living circle on foot** - from red (many) to yellow (few):"
   ]
  },
  {
   "cell_type": "code",
   "execution_count": 20,
   "metadata": {},
   "outputs": [
    {
     "data": {
      "text/html": [
       "\n",
       "        <iframe\n",
       "            width=\"600\"\n",
       "            height=\"500\"\n",
       "            src=\"html/stores_map.html\"\n",
       "            frameborder=\"0\"\n",
       "            allowfullscreen\n",
       "        ></iframe>\n",
       "        "
      ],
      "text/plain": [
       "<IPython.lib.display.IFrame at 0x1d0b39e0a88>"
      ]
     },
     "execution_count": 20,
     "metadata": {},
     "output_type": "execute_result"
    }
   ],
   "source": [
    "IFrame(src='html/stores_map.html', width=600, height=500)"
   ]
  },
  {
   "cell_type": "code",
   "execution_count": 21,
   "metadata": {},
   "outputs": [],
   "source": [
    "dist_folium_map(df)"
   ]
  },
  {
   "cell_type": "markdown",
   "metadata": {},
   "source": [
    "**The distance to the nearest MRT station** - from red (near) to yellow (far):"
   ]
  },
  {
   "cell_type": "code",
   "execution_count": 22,
   "metadata": {},
   "outputs": [
    {
     "data": {
      "text/html": [
       "\n",
       "        <iframe\n",
       "            width=\"600\"\n",
       "            height=\"500\"\n",
       "            src=\"html/dist_map.html\"\n",
       "            frameborder=\"0\"\n",
       "            allowfullscreen\n",
       "        ></iframe>\n",
       "        "
      ],
      "text/plain": [
       "<IPython.lib.display.IFrame at 0x1d0b1008a88>"
      ]
     },
     "execution_count": 22,
     "metadata": {},
     "output_type": "execute_result"
    }
   ],
   "source": [
    "IFrame(src='html/dist_map.html', width=600, height=500)"
   ]
  },
  {
   "cell_type": "markdown",
   "metadata": {},
   "source": [
    "**Target variable - `price`**"
   ]
  },
  {
   "cell_type": "code",
   "execution_count": 10,
   "metadata": {},
   "outputs": [
    {
     "data": {
      "image/png": "[encoded data removed]",
      "text/plain": [
       "<Figure size 432x288 with 1 Axes>"
      ]
     },
     "metadata": {
      "needs_background": "light"
     },
     "output_type": "display_data"
    }
   ],
   "source": [
    "sns.distplot(df.price, fit=norm, bins=50);"
   ]
  },
  {
   "cell_type": "code",
   "execution_count": 11,
   "metadata": {},
   "outputs": [
    {
     "data": {
      "image/png": "[encoded data removed]",
      "text/plain": [
       "<Figure size 576x100.8 with 1 Axes>"
      ]
     },
     "metadata": {
      "needs_background": "light"
     },
     "output_type": "display_data"
    }
   ],
   "source": [
    "plt.figure(figsize=(8,1.4))\n",
    "sns.boxplot(df.price);"
   ]
  },
  {
   "cell_type": "markdown",
   "metadata": {},
   "source": [
    "Observation with max price:"
   ]
  },
  {
   "cell_type": "code",
   "execution_count": 12,
   "metadata": {},
   "outputs": [
    {
     "data": {
      "text/html": [
       "<div>\n",
       "<style scoped>\n",
       "    .dataframe tbody tr th:only-of-type {\n",
       "        vertical-align: middle;\n",
       "    }\n",
       "\n",
       "    .dataframe tbody tr th {\n",
       "        vertical-align: top;\n",
       "    }\n",
       "\n",
       "    .dataframe thead th {\n",
       "        text-align: right;\n",
       "    }\n",
       "</style>\n",
       "<table border=\"1\" class=\"dataframe\">\n",
       "  <thead>\n",
       "    <tr style=\"text-align: right;\">\n",
       "      <th></th>\n",
       "      <th>trans_date</th>\n",
       "      <th>house_age</th>\n",
       "      <th>dist_mrt</th>\n",
       "      <th>num_stores</th>\n",
       "      <th>latitude</th>\n",
       "      <th>longitude</th>\n",
       "      <th>price</th>\n",
       "    </tr>\n",
       "  </thead>\n",
       "  <tbody>\n",
       "    <tr>\n",
       "      <th>270</th>\n",
       "      <td>2013.333333</td>\n",
       "      <td>10.8</td>\n",
       "      <td>252.5822</td>\n",
       "      <td>1</td>\n",
       "      <td>24.9746</td>\n",
       "      <td>121.53046</td>\n",
       "      <td>117.5</td>\n",
       "    </tr>\n",
       "  </tbody>\n",
       "</table>\n",
       "</div>"
      ],
      "text/plain": [
       "      trans_date  house_age  dist_mrt  num_stores  latitude  longitude  price\n",
       "270  2013.333333       10.8  252.5822           1   24.9746  121.53046  117.5"
      ]
     },
     "execution_count": 12,
     "metadata": {},
     "output_type": "execute_result"
    }
   ],
   "source": [
    "df[df.price==df.price.max()]"
   ]
  },
  {
   "cell_type": "code",
   "execution_count": 13,
   "metadata": {},
   "outputs": [],
   "source": [
    "max_price_map = folium.Map(\n",
    "    location=[24.966,121.52],\n",
    "    width=500, height=500,\n",
    "    tiles='Stamen Terrain', \n",
    "    zoom_start=13\n",
    ")\n",
    "folium.CircleMarker(location=[24.9746,121.53046], \n",
    "                    radius=5, popup = \"Max price\", \n",
    "                    color='red').add_to(max_price_map)\n",
    "max_price_map.save(\"html/max_price_map.html\")\n",
    "pass;"
   ]
  },
  {
   "cell_type": "code",
   "execution_count": 27,
   "metadata": {},
   "outputs": [
    {
     "data": {
      "text/html": [
       "\n",
       "        <iframe\n",
       "            width=\"500\"\n",
       "            height=\"500\"\n",
       "            src=\"html/max_price_map.html\"\n",
       "            frameborder=\"0\"\n",
       "            allowfullscreen\n",
       "        ></iframe>\n",
       "        "
      ],
      "text/plain": [
       "<IPython.lib.display.IFrame at 0x1d0b408fd88>"
      ]
     },
     "execution_count": 27,
     "metadata": {},
     "output_type": "execute_result"
    }
   ],
   "source": [
    "IFrame(src='html/max_price_map.html', width=500, height=500)"
   ]
  },
  {
   "cell_type": "markdown",
   "metadata": {},
   "source": [
    "Available predictors don't explain such a high price so let's remove this observation. "
   ]
  },
  {
   "cell_type": "code",
   "execution_count": 14,
   "metadata": {},
   "outputs": [],
   "source": [
    "df = df.drop(df.index[270])"
   ]
  },
  {
   "cell_type": "markdown",
   "metadata": {},
   "source": [
    "**`house_age`**"
   ]
  },
  {
   "cell_type": "code",
   "execution_count": 15,
   "metadata": {},
   "outputs": [
    {
     "data": {
      "text/plain": [
       "17"
      ]
     },
     "execution_count": 15,
     "metadata": {},
     "output_type": "execute_result"
    }
   ],
   "source": [
    "(df.house_age == 0).sum()"
   ]
  },
  {
   "cell_type": "code",
   "execution_count": 16,
   "metadata": {},
   "outputs": [
    {
     "data": {
      "text/plain": [
       "(17, 7)"
      ]
     },
     "execution_count": 16,
     "metadata": {},
     "output_type": "execute_result"
    }
   ],
   "source": [
    "df_house_null = df[df.house_age == 0]\n",
    "df_house_null.shape"
   ]
  },
  {
   "cell_type": "code",
   "execution_count": 17,
   "metadata": {},
   "outputs": [],
   "source": [
    "check_folium_map(df_house_null)"
   ]
  },
  {
   "cell_type": "code",
   "execution_count": 32,
   "metadata": {},
   "outputs": [
    {
     "data": {
      "text/html": [
       "\n",
       "        <iframe\n",
       "            width=\"500\"\n",
       "            height=\"500\"\n",
       "            src=\"html/check_map.html\"\n",
       "            frameborder=\"0\"\n",
       "            allowfullscreen\n",
       "        ></iframe>\n",
       "        "
      ],
      "text/plain": [
       "<IPython.lib.display.IFrame at 0x1d0b2796b48>"
      ]
     },
     "execution_count": 32,
     "metadata": {},
     "output_type": "execute_result"
    }
   ],
   "source": [
    "IFrame(src='html/check_map.html', width=500, height=500)"
   ]
  },
  {
   "cell_type": "markdown",
   "metadata": {},
   "source": [
    "17 observations with `house_age` == **0** belong to 5 objects. Most likely these objects are new buildings with `house_age` less than one year so let's replace their `house_age` values with **0.5**. "
   ]
  },
  {
   "cell_type": "code",
   "execution_count": 18,
   "metadata": {},
   "outputs": [],
   "source": [
    "df.house_age = df.house_age.replace(0, 0.5)"
   ]
  },
  {
   "cell_type": "code",
   "execution_count": 19,
   "metadata": {},
   "outputs": [
    {
     "data": {
      "text/plain": [
       "0.5     17\n",
       "1.0      1\n",
       "1.1      5\n",
       "1.5      2\n",
       "1.7      1\n",
       "        ..\n",
       "40.9     2\n",
       "41.3     2\n",
       "41.4     1\n",
       "42.7     1\n",
       "43.8     1\n",
       "Name: house_age, Length: 235, dtype: int64"
      ]
     },
     "execution_count": 19,
     "metadata": {},
     "output_type": "execute_result"
    }
   ],
   "source": [
    "df.house_age.value_counts().sort_index()"
   ]
  },
  {
   "cell_type": "markdown",
   "metadata": {},
   "source": [
    "**`trans_date`**"
   ]
  },
  {
   "cell_type": "code",
   "execution_count": 20,
   "metadata": {},
   "outputs": [
    {
     "data": {
      "text/plain": [
       "array([2012.6666667, 2012.75     , 2012.8333333, 2012.9166667,\n",
       "       2013.       , 2013.0833333, 2013.1666667, 2013.25     ,\n",
       "       2013.3333333, 2013.4166667, 2013.5      , 2013.5833333])"
      ]
     },
     "execution_count": 20,
     "metadata": {},
     "output_type": "execute_result"
    }
   ],
   "source": [
    "np.unique(df['trans_date'])"
   ]
  },
  {
   "cell_type": "code",
   "execution_count": 21,
   "metadata": {},
   "outputs": [],
   "source": [
    "df['trans_date'] = df.trans_date.apply(lambda x: round(x, 1))"
   ]
  },
  {
   "cell_type": "code",
   "execution_count": 22,
   "metadata": {},
   "outputs": [
    {
     "data": {
      "text/plain": [
       "9111"
      ]
     },
     "execution_count": 22,
     "metadata": {},
     "output_type": "execute_result"
    }
   ],
   "source": [
    "gc.collect()"
   ]
  },
  {
   "cell_type": "markdown",
   "metadata": {},
   "source": [
    "####  Variance Inflation Factor (VIF)"
   ]
  },
  {
   "cell_type": "code",
   "execution_count": 45,
   "metadata": {},
   "outputs": [
    {
     "data": {
      "text/plain": [
       "['trans_date',\n",
       " 'house_age',\n",
       " 'dist_mrt',\n",
       " 'num_stores',\n",
       " 'latitude',\n",
       " 'longitude',\n",
       " 'price']"
      ]
     },
     "execution_count": 45,
     "metadata": {},
     "output_type": "execute_result"
    }
   ],
   "source": [
    "features = list(df.columns)\n",
    "features"
   ]
  },
  {
   "cell_type": "code",
   "execution_count": 51,
   "metadata": {},
   "outputs": [
    {
     "data": {
      "text/plain": [
       "'trans_date+house_age+dist_mrt+num_stores+latitude+longitude'"
      ]
     },
     "execution_count": 51,
     "metadata": {},
     "output_type": "execute_result"
    }
   ],
   "source": [
    "features = features[:-1]\n",
    "features_df = '+'.join(features)\n",
    "features_df"
   ]
  },
  {
   "cell_type": "code",
   "execution_count": 52,
   "metadata": {},
   "outputs": [],
   "source": [
    "y, X = dmatrices('price ~' + features_df, df, return_type='dataframe')"
   ]
  },
  {
   "cell_type": "code",
   "execution_count": 53,
   "metadata": {},
   "outputs": [],
   "source": [
    "vif = pd.DataFrame()\n",
    "vif[\"VIF Factor\"] = [\n",
    "    variance_inflation_factor(X.values, i) for i in range(X.shape[1])\n",
    "]\n",
    "vif[\"features\"] = X.columns"
   ]
  },
  {
   "cell_type": "code",
   "execution_count": 54,
   "metadata": {},
   "outputs": [
    {
     "data": {
      "text/html": [
       "<div>\n",
       "<style scoped>\n",
       "    .dataframe tbody tr th:only-of-type {\n",
       "        vertical-align: middle;\n",
       "    }\n",
       "\n",
       "    .dataframe tbody tr th {\n",
       "        vertical-align: top;\n",
       "    }\n",
       "\n",
       "    .dataframe thead th {\n",
       "        text-align: right;\n",
       "    }\n",
       "</style>\n",
       "<table border=\"1\" class=\"dataframe\">\n",
       "  <thead>\n",
       "    <tr style=\"text-align: right;\">\n",
       "      <th></th>\n",
       "      <th>VIF Factor</th>\n",
       "      <th>features</th>\n",
       "    </tr>\n",
       "  </thead>\n",
       "  <tbody>\n",
       "    <tr>\n",
       "      <th>0</th>\n",
       "      <td>244266462.0</td>\n",
       "      <td>Intercept</td>\n",
       "    </tr>\n",
       "    <tr>\n",
       "      <th>1</th>\n",
       "      <td>1.0</td>\n",
       "      <td>trans_date</td>\n",
       "    </tr>\n",
       "    <tr>\n",
       "      <th>2</th>\n",
       "      <td>1.0</td>\n",
       "      <td>house_age</td>\n",
       "    </tr>\n",
       "    <tr>\n",
       "      <th>3</th>\n",
       "      <td>4.4</td>\n",
       "      <td>dist_mrt</td>\n",
       "    </tr>\n",
       "    <tr>\n",
       "      <th>4</th>\n",
       "      <td>1.6</td>\n",
       "      <td>num_stores</td>\n",
       "    </tr>\n",
       "    <tr>\n",
       "      <th>5</th>\n",
       "      <td>1.6</td>\n",
       "      <td>latitude</td>\n",
       "    </tr>\n",
       "    <tr>\n",
       "      <th>6</th>\n",
       "      <td>2.9</td>\n",
       "      <td>longitude</td>\n",
       "    </tr>\n",
       "  </tbody>\n",
       "</table>\n",
       "</div>"
      ],
      "text/plain": [
       "    VIF Factor    features\n",
       "0  244266462.0   Intercept\n",
       "1          1.0  trans_date\n",
       "2          1.0   house_age\n",
       "3          4.4    dist_mrt\n",
       "4          1.6  num_stores\n",
       "5          1.6    latitude\n",
       "6          2.9   longitude"
      ]
     },
     "execution_count": 54,
     "metadata": {},
     "output_type": "execute_result"
    }
   ],
   "source": [
    "vif.round(1)"
   ]
  },
  {
   "cell_type": "markdown",
   "metadata": {},
   "source": [
    "**VIF** for all variables less than 5, so there is no multicollinearity problem."
   ]
  },
  {
   "cell_type": "markdown",
   "metadata": {},
   "source": [
    "**Extra preprocessing**"
   ]
  },
  {
   "cell_type": "code",
   "execution_count": 55,
   "metadata": {},
   "outputs": [],
   "source": [
    "df['year'] = df.trans_date.apply(lambda x: int(x)).astype(\"category\")\n",
    "\n",
    "# Weird format of 'trans_date'. Add 1 to start month's number with 1 \n",
    "df['month'] = df.trans_date.apply(\n",
    "    lambda x: int((x % 1) * 10 + 1)).astype(\"category\")\n",
    "df = df.drop('trans_date', axis=1)"
   ]
  },
  {
   "cell_type": "code",
   "execution_count": 56,
   "metadata": {},
   "outputs": [
    {
     "data": {
      "text/plain": [
       "2013    287\n",
       "2012    126\n",
       "Name: year, dtype: int64"
      ]
     },
     "execution_count": 56,
     "metadata": {},
     "output_type": "execute_result"
    }
   ],
   "source": [
    "df.year.value_counts()"
   ]
  },
  {
   "cell_type": "code",
   "execution_count": 57,
   "metadata": {},
   "outputs": [
    {
     "data": {
      "text/plain": [
       "8     88\n",
       "3     85\n",
       "1     74\n",
       "6     70\n",
       "5     58\n",
       "10    38\n",
       "Name: month, dtype: int64"
      ]
     },
     "execution_count": 57,
     "metadata": {},
     "output_type": "execute_result"
    }
   ],
   "source": [
    "df.month.value_counts()"
   ]
  },
  {
   "cell_type": "markdown",
   "metadata": {},
   "source": [
    "**`num_stores`**"
   ]
  },
  {
   "cell_type": "code",
   "execution_count": 58,
   "metadata": {},
   "outputs": [
    {
     "data": {
      "text/plain": [
       "array([ 0,  1,  2,  3,  4,  5,  6,  7,  8,  9, 10], dtype=int64)"
      ]
     },
     "execution_count": 58,
     "metadata": {},
     "output_type": "execute_result"
    }
   ],
   "source": [
    "np.unique(df.num_stores)"
   ]
  },
  {
   "cell_type": "code",
   "execution_count": 59,
   "metadata": {},
   "outputs": [],
   "source": [
    "df.num_stores = df.num_stores.astype(\"category\")"
   ]
  },
  {
   "cell_type": "markdown",
   "metadata": {},
   "source": [
    "**Numeric Variables Distribution**"
   ]
  },
  {
   "cell_type": "code",
   "execution_count": 60,
   "metadata": {},
   "outputs": [
    {
     "name": "stdout",
     "output_type": "stream",
     "text": [
      "<class 'pandas.core.frame.DataFrame'>\n",
      "Int64Index: 413 entries, 0 to 413\n",
      "Data columns (total 8 columns):\n",
      " #   Column      Non-Null Count  Dtype   \n",
      "---  ------      --------------  -----   \n",
      " 0   house_age   413 non-null    float64 \n",
      " 1   dist_mrt    413 non-null    float64 \n",
      " 2   num_stores  413 non-null    category\n",
      " 3   latitude    413 non-null    float64 \n",
      " 4   longitude   413 non-null    float64 \n",
      " 5   price       413 non-null    float64 \n",
      " 6   year        413 non-null    category\n",
      " 7   month       413 non-null    category\n",
      "dtypes: category(3), float64(5)\n",
      "memory usage: 21.3 KB\n"
     ]
    }
   ],
   "source": [
    "df.info()"
   ]
  },
  {
   "cell_type": "code",
   "execution_count": 61,
   "metadata": {},
   "outputs": [
    {
     "data": {
      "image/png": "[encoded data removed]",
      "text/plain": [
       "<Figure size 1296x216 with 4 Axes>"
      ]
     },
     "metadata": {
      "needs_background": "light"
     },
     "output_type": "display_data"
    }
   ],
   "source": [
    "num_cols = ['house_age', 'dist_mrt', 'latitude', 'longitude']\n",
    "fig, axes = plt.subplots(1, 4, constrained_layout=True, figsize=(18,3))\n",
    "\n",
    "for i,t in enumerate(num_cols):\n",
    "    sns.distplot(df[t], fit=norm, bins=30, ax=axes[i % 4])\n",
    "pass;"
   ]
  },
  {
   "cell_type": "code",
   "execution_count": 62,
   "metadata": {},
   "outputs": [],
   "source": [
    "train = df.sample(frac=0.7, random_state=42)\n",
    "test = df.drop(train.index)"
   ]
  },
  {
   "cell_type": "code",
   "execution_count": 63,
   "metadata": {},
   "outputs": [
    {
     "data": {
      "text/plain": [
       "((289, 8), (124, 8))"
      ]
     },
     "execution_count": 63,
     "metadata": {},
     "output_type": "execute_result"
    }
   ],
   "source": [
    "train.shape, test.shape"
   ]
  },
  {
   "cell_type": "code",
   "execution_count": 64,
   "metadata": {},
   "outputs": [],
   "source": [
    "train_y = train.price\n",
    "train_X = train.drop('price', axis=1)\n",
    "test_y = test.price\n",
    "test_X = test.drop('price', axis=1)"
   ]
  },
  {
   "cell_type": "code",
   "execution_count": 65,
   "metadata": {},
   "outputs": [],
   "source": [
    "# dist_mrt\n",
    "train_X[\"dist_mrt\"] = np.log1p(train_X.dist_mrt)\n",
    "test_X[\"dist_mrt\"] = np.log1p(test_X.dist_mrt)"
   ]
  },
  {
   "cell_type": "code",
   "execution_count": 66,
   "metadata": {},
   "outputs": [],
   "source": [
    "transform_mm = MinMaxScaler()"
   ]
  },
  {
   "cell_type": "code",
   "execution_count": 67,
   "metadata": {},
   "outputs": [],
   "source": [
    "train_norm = train_X.copy(deep=True)\n",
    "train_norm[num_cols] = transform_mm.fit_transform(train_norm[num_cols])"
   ]
  },
  {
   "cell_type": "code",
   "execution_count": 68,
   "metadata": {},
   "outputs": [
    {
     "data": {
      "text/html": [
       "<div>\n",
       "<style scoped>\n",
       "    .dataframe tbody tr th:only-of-type {\n",
       "        vertical-align: middle;\n",
       "    }\n",
       "\n",
       "    .dataframe tbody tr th {\n",
       "        vertical-align: top;\n",
       "    }\n",
       "\n",
       "    .dataframe thead th {\n",
       "        text-align: right;\n",
       "    }\n",
       "</style>\n",
       "<table border=\"1\" class=\"dataframe\">\n",
       "  <thead>\n",
       "    <tr style=\"text-align: right;\">\n",
       "      <th></th>\n",
       "      <th>p_value</th>\n",
       "      <th>dist_type</th>\n",
       "    </tr>\n",
       "  </thead>\n",
       "  <tbody>\n",
       "    <tr>\n",
       "      <th>house_age</th>\n",
       "      <td>0.000228355</td>\n",
       "      <td>not normal</td>\n",
       "    </tr>\n",
       "    <tr>\n",
       "      <th>dist_mrt</th>\n",
       "      <td>0.233039</td>\n",
       "      <td>normal</td>\n",
       "    </tr>\n",
       "    <tr>\n",
       "      <th>latitude</th>\n",
       "      <td>0.00926976</td>\n",
       "      <td>not normal</td>\n",
       "    </tr>\n",
       "    <tr>\n",
       "      <th>longitude</th>\n",
       "      <td>0</td>\n",
       "      <td>not normal</td>\n",
       "    </tr>\n",
       "  </tbody>\n",
       "</table>\n",
       "</div>"
      ],
      "text/plain": [
       "               p_value   dist_type\n",
       "house_age  0.000228355  not normal\n",
       "dist_mrt      0.233039      normal\n",
       "latitude    0.00926976  not normal\n",
       "longitude            0  not normal"
      ]
     },
     "execution_count": 68,
     "metadata": {},
     "output_type": "execute_result"
    }
   ],
   "source": [
    "norm_test = pd.DataFrame(index=num_cols, columns=['p_value','dist_type'])\n",
    "for i in num_cols:\n",
    "    norm_test.loc[i, ['p_value']] = stats.jarque_bera(train_norm[i])[1]\n",
    "    if stats.jarque_bera(train_norm[i])[1] >= 0.05:\n",
    "        norm_test.loc[i, ['dist_type']] = 'normal'\n",
    "    else:\n",
    "        norm_test.loc[i, ['dist_type']] = 'not normal'\n",
    "        \n",
    "norm_test  "
   ]
  },
  {
   "cell_type": "code",
   "execution_count": 69,
   "metadata": {},
   "outputs": [
    {
     "data": {
      "text/plain": [
       "[7.745189916821765e-09,\n",
       " 0.1150311847544267,\n",
       " 0.009599275793006425,\n",
       " 1.133392285040297e-15]"
      ]
     },
     "execution_count": 69,
     "metadata": {},
     "output_type": "execute_result"
    }
   ],
   "source": [
    "_, transformed_p = normaltest(train_norm[num_cols])\n",
    "list(transformed_p)"
   ]
  },
  {
   "cell_type": "code",
   "execution_count": 70,
   "metadata": {},
   "outputs": [],
   "source": [
    "num_cols = [i for i in train_X.columns if \n",
    "               train_X[i].dtype.name=='float64']\n",
    "cat_cols = [i for i in train_X.columns if \n",
    "               train_X[i].dtype.name=='category']"
   ]
  },
  {
   "cell_type": "code",
   "execution_count": 71,
   "metadata": {},
   "outputs": [
    {
     "data": {
      "text/plain": [
       "MinMaxScaler(copy=True, feature_range=(0, 1))"
      ]
     },
     "execution_count": 71,
     "metadata": {},
     "output_type": "execute_result"
    }
   ],
   "source": [
    "train_X_num = train_X[num_cols]\n",
    "transform_mm.fit(train_X_num)"
   ]
  },
  {
   "cell_type": "code",
   "execution_count": 72,
   "metadata": {},
   "outputs": [],
   "source": [
    "del train_X_num"
   ]
  },
  {
   "cell_type": "code",
   "execution_count": 73,
   "metadata": {},
   "outputs": [],
   "source": [
    "def preproc(data, trans):\n",
    "    data_cat = pd.get_dummies(data[cat_cols])\n",
    "    data_norm = data[num_cols]\n",
    "    data_norm[num_cols] = trans.transform(data[num_cols])\n",
    "    data_all = pd.concat((data_norm, data_cat), axis=1)\n",
    "    return data_all "
   ]
  },
  {
   "cell_type": "code",
   "execution_count": 74,
   "metadata": {},
   "outputs": [],
   "source": [
    "X_train_alfa = preproc(train_X, transform_mm)\n",
    "X_test_alfa = preproc(test_X, transform_mm)"
   ]
  },
  {
   "cell_type": "code",
   "execution_count": 99,
   "metadata": {},
   "outputs": [
    {
     "data": {
      "text/html": [
       "<div>\n",
       "<style scoped>\n",
       "    .dataframe tbody tr th:only-of-type {\n",
       "        vertical-align: middle;\n",
       "    }\n",
       "\n",
       "    .dataframe tbody tr th {\n",
       "        vertical-align: top;\n",
       "    }\n",
       "\n",
       "    .dataframe thead th {\n",
       "        text-align: right;\n",
       "    }\n",
       "</style>\n",
       "<table border=\"1\" class=\"dataframe\">\n",
       "  <thead>\n",
       "    <tr style=\"text-align: right;\">\n",
       "      <th></th>\n",
       "      <th>house_age</th>\n",
       "      <th>dist_mrt</th>\n",
       "      <th>latitude</th>\n",
       "      <th>longitude</th>\n",
       "      <th>num_stores_0</th>\n",
       "      <th>num_stores_1</th>\n",
       "      <th>num_stores_2</th>\n",
       "      <th>num_stores_3</th>\n",
       "      <th>num_stores_4</th>\n",
       "      <th>num_stores_5</th>\n",
       "      <th>num_stores_6</th>\n",
       "      <th>num_stores_7</th>\n",
       "      <th>num_stores_8</th>\n",
       "      <th>num_stores_9</th>\n",
       "      <th>num_stores_10</th>\n",
       "      <th>year_2012</th>\n",
       "      <th>year_2013</th>\n",
       "      <th>month_1</th>\n",
       "      <th>month_3</th>\n",
       "      <th>month_5</th>\n",
       "      <th>month_6</th>\n",
       "      <th>month_8</th>\n",
       "      <th>month_10</th>\n",
       "    </tr>\n",
       "  </thead>\n",
       "  <tbody>\n",
       "    <tr>\n",
       "      <th>395</th>\n",
       "      <td>0.478060</td>\n",
       "      <td>0.545751</td>\n",
       "      <td>0.508119</td>\n",
       "      <td>0.735631</td>\n",
       "      <td>0</td>\n",
       "      <td>0</td>\n",
       "      <td>0</td>\n",
       "      <td>0</td>\n",
       "      <td>1</td>\n",
       "      <td>0</td>\n",
       "      <td>0</td>\n",
       "      <td>0</td>\n",
       "      <td>0</td>\n",
       "      <td>0</td>\n",
       "      <td>0</td>\n",
       "      <td>1</td>\n",
       "      <td>0</td>\n",
       "      <td>0</td>\n",
       "      <td>0</td>\n",
       "      <td>0</td>\n",
       "      <td>0</td>\n",
       "      <td>0</td>\n",
       "      <td>1</td>\n",
       "    </tr>\n",
       "    <tr>\n",
       "      <th>350</th>\n",
       "      <td>0.293303</td>\n",
       "      <td>0.538522</td>\n",
       "      <td>0.400873</td>\n",
       "      <td>0.723727</td>\n",
       "      <td>0</td>\n",
       "      <td>0</td>\n",
       "      <td>0</td>\n",
       "      <td>0</td>\n",
       "      <td>0</td>\n",
       "      <td>1</td>\n",
       "      <td>0</td>\n",
       "      <td>0</td>\n",
       "      <td>0</td>\n",
       "      <td>0</td>\n",
       "      <td>0</td>\n",
       "      <td>0</td>\n",
       "      <td>1</td>\n",
       "      <td>1</td>\n",
       "      <td>0</td>\n",
       "      <td>0</td>\n",
       "      <td>0</td>\n",
       "      <td>0</td>\n",
       "      <td>0</td>\n",
       "    </tr>\n",
       "    <tr>\n",
       "      <th>401</th>\n",
       "      <td>0.163972</td>\n",
       "      <td>0.804332</td>\n",
       "      <td>0.375424</td>\n",
       "      <td>0.442240</td>\n",
       "      <td>0</td>\n",
       "      <td>0</td>\n",
       "      <td>0</td>\n",
       "      <td>1</td>\n",
       "      <td>0</td>\n",
       "      <td>0</td>\n",
       "      <td>0</td>\n",
       "      <td>0</td>\n",
       "      <td>0</td>\n",
       "      <td>0</td>\n",
       "      <td>0</td>\n",
       "      <td>0</td>\n",
       "      <td>1</td>\n",
       "      <td>1</td>\n",
       "      <td>0</td>\n",
       "      <td>0</td>\n",
       "      <td>0</td>\n",
       "      <td>0</td>\n",
       "      <td>0</td>\n",
       "    </tr>\n",
       "    <tr>\n",
       "      <th>354</th>\n",
       "      <td>0.270208</td>\n",
       "      <td>0.720309</td>\n",
       "      <td>0.242002</td>\n",
       "      <td>0.848997</td>\n",
       "      <td>0</td>\n",
       "      <td>1</td>\n",
       "      <td>0</td>\n",
       "      <td>0</td>\n",
       "      <td>0</td>\n",
       "      <td>0</td>\n",
       "      <td>0</td>\n",
       "      <td>0</td>\n",
       "      <td>0</td>\n",
       "      <td>0</td>\n",
       "      <td>0</td>\n",
       "      <td>0</td>\n",
       "      <td>1</td>\n",
       "      <td>0</td>\n",
       "      <td>0</td>\n",
       "      <td>1</td>\n",
       "      <td>0</td>\n",
       "      <td>0</td>\n",
       "      <td>0</td>\n",
       "    </tr>\n",
       "    <tr>\n",
       "      <th>181</th>\n",
       "      <td>0.256351</td>\n",
       "      <td>0.379443</td>\n",
       "      <td>0.640087</td>\n",
       "      <td>0.767260</td>\n",
       "      <td>0</td>\n",
       "      <td>0</td>\n",
       "      <td>0</td>\n",
       "      <td>0</td>\n",
       "      <td>0</td>\n",
       "      <td>0</td>\n",
       "      <td>0</td>\n",
       "      <td>0</td>\n",
       "      <td>1</td>\n",
       "      <td>0</td>\n",
       "      <td>0</td>\n",
       "      <td>0</td>\n",
       "      <td>1</td>\n",
       "      <td>0</td>\n",
       "      <td>1</td>\n",
       "      <td>0</td>\n",
       "      <td>0</td>\n",
       "      <td>0</td>\n",
       "      <td>0</td>\n",
       "    </tr>\n",
       "  </tbody>\n",
       "</table>\n",
       "</div>"
      ],
      "text/plain": [
       "     house_age  dist_mrt  latitude  longitude  num_stores_0  num_stores_1  num_stores_2  \\\n",
       "395   0.478060  0.545751  0.508119   0.735631             0             0             0   \n",
       "350   0.293303  0.538522  0.400873   0.723727             0             0             0   \n",
       "401   0.163972  0.804332  0.375424   0.442240             0             0             0   \n",
       "354   0.270208  0.720309  0.242002   0.848997             0             1             0   \n",
       "181   0.256351  0.379443  0.640087   0.767260             0             0             0   \n",
       "\n",
       "     num_stores_3  num_stores_4  num_stores_5  num_stores_6  num_stores_7  num_stores_8  \\\n",
       "395             0             1             0             0             0             0   \n",
       "350             0             0             1             0             0             0   \n",
       "401             1             0             0             0             0             0   \n",
       "354             0             0             0             0             0             0   \n",
       "181             0             0             0             0             0             1   \n",
       "\n",
       "     num_stores_9  num_stores_10  year_2012  year_2013  month_1  month_3  month_5  month_6  \\\n",
       "395             0              0          1          0        0        0        0        0   \n",
       "350             0              0          0          1        1        0        0        0   \n",
       "401             0              0          0          1        1        0        0        0   \n",
       "354             0              0          0          1        0        0        1        0   \n",
       "181             0              0          0          1        0        1        0        0   \n",
       "\n",
       "     month_8  month_10  \n",
       "395        0         1  \n",
       "350        0         0  \n",
       "401        0         0  \n",
       "354        0         0  \n",
       "181        0         0  "
      ]
     },
     "execution_count": 99,
     "metadata": {},
     "output_type": "execute_result"
    },
    {
     "data": {
      "text/plain": [
       "(289, 23)"
      ]
     },
     "execution_count": 99,
     "metadata": {},
     "output_type": "execute_result"
    }
   ],
   "source": [
    "X_train_alfa.head()\n",
    "X_train_alfa.shape"
   ]
  },
  {
   "cell_type": "code",
   "execution_count": 76,
   "metadata": {},
   "outputs": [
    {
     "data": {
      "text/plain": [
       "7268"
      ]
     },
     "execution_count": 76,
     "metadata": {},
     "output_type": "execute_result"
    }
   ],
   "source": [
    "gc.collect()"
   ]
  },
  {
   "cell_type": "markdown",
   "metadata": {},
   "source": [
    "### Modeling"
   ]
  },
  {
   "cell_type": "code",
   "execution_count": 77,
   "metadata": {},
   "outputs": [],
   "source": [
    "regr = LinearRegression()\n",
    "lr_model = regr.fit(X_train_alfa, train_y)"
   ]
  },
  {
   "cell_type": "code",
   "execution_count": 80,
   "metadata": {},
   "outputs": [
    {
     "name": "stdout",
     "output_type": "stream",
     "text": [
      "Coefficients: \n",
      " [ -9.5669201  -29.7031207   22.23937422   4.94106445  -2.27547841\n",
      "  -3.8290539   -2.19291946  -3.29680408   0.10971204   1.64004134\n",
      "   1.68984775  -0.25619885   4.24665646   4.6513694   -0.48717228\n",
      "  -1.09840627   1.09840627  -0.38583096  -0.33909118  -1.94755422\n",
      "   3.77088263  -0.56152429  -0.53688199] \n",
      "\n",
      "Mean squared error: 52.97 \n",
      "\n",
      "Coefficient of determination: 0.711\n"
     ]
    }
   ],
   "source": [
    "pred_y = lr_model.predict(X_test_alfa)\n",
    "\n",
    "print('Coefficients: \\n', regr.coef_, '\\n')\n",
    "print('Mean squared error: %.2f \\n'\n",
    "      % mean_squared_error(test_y, pred_y))\n",
    "print('Coefficient of determination: %.3f'\n",
    "      % r2_score(test_y, pred_y))"
   ]
  },
  {
   "cell_type": "markdown",
   "metadata": {},
   "source": [
    "#### Extra Features Generation (Associations rules learning)"
   ]
  },
  {
   "cell_type": "markdown",
   "metadata": {},
   "source": [
    "The necessary step is a binning of numeric variables. When splitting, we are guided by the quantiles values. Bin boundaries are ***-infinity*** and ***+infinity***."
   ]
  },
  {
   "cell_type": "code",
   "execution_count": 110,
   "metadata": {},
   "outputs": [
    {
     "data": {
      "text/html": [
       "<div>\n",
       "<style scoped>\n",
       "    .dataframe tbody tr th:only-of-type {\n",
       "        vertical-align: middle;\n",
       "    }\n",
       "\n",
       "    .dataframe tbody tr th {\n",
       "        vertical-align: top;\n",
       "    }\n",
       "\n",
       "    .dataframe thead th {\n",
       "        text-align: right;\n",
       "    }\n",
       "</style>\n",
       "<table border=\"1\" class=\"dataframe\">\n",
       "  <thead>\n",
       "    <tr style=\"text-align: right;\">\n",
       "      <th></th>\n",
       "      <th>house_age</th>\n",
       "      <th>dist_mrt</th>\n",
       "      <th>latitude</th>\n",
       "      <th>longitude</th>\n",
       "    </tr>\n",
       "  </thead>\n",
       "  <tbody>\n",
       "    <tr>\n",
       "      <th>count</th>\n",
       "      <td>289.000000</td>\n",
       "      <td>289.000000</td>\n",
       "      <td>289.000000</td>\n",
       "      <td>289.000000</td>\n",
       "    </tr>\n",
       "    <tr>\n",
       "      <th>mean</th>\n",
       "      <td>17.882699</td>\n",
       "      <td>6.367756</td>\n",
       "      <td>24.968765</td>\n",
       "      <td>121.533449</td>\n",
       "    </tr>\n",
       "    <tr>\n",
       "      <th>std</th>\n",
       "      <td>11.443929</td>\n",
       "      <td>1.124761</td>\n",
       "      <td>0.012386</td>\n",
       "      <td>0.015239</td>\n",
       "    </tr>\n",
       "    <tr>\n",
       "      <th>min</th>\n",
       "      <td>0.500000</td>\n",
       "      <td>3.193880</td>\n",
       "      <td>24.932070</td>\n",
       "      <td>121.473530</td>\n",
       "    </tr>\n",
       "    <tr>\n",
       "      <th>25%</th>\n",
       "      <td>9.100000</td>\n",
       "      <td>5.671000</td>\n",
       "      <td>24.962990</td>\n",
       "      <td>121.529810</td>\n",
       "    </tr>\n",
       "    <tr>\n",
       "      <th>50%</th>\n",
       "      <td>16.100000</td>\n",
       "      <td>6.200978</td>\n",
       "      <td>24.970260</td>\n",
       "      <td>121.538890</td>\n",
       "    </tr>\n",
       "    <tr>\n",
       "      <th>75%</th>\n",
       "      <td>28.600000</td>\n",
       "      <td>7.278136</td>\n",
       "      <td>24.977440</td>\n",
       "      <td>121.543310</td>\n",
       "    </tr>\n",
       "    <tr>\n",
       "      <th>max</th>\n",
       "      <td>43.800000</td>\n",
       "      <td>8.777867</td>\n",
       "      <td>25.014590</td>\n",
       "      <td>121.561740</td>\n",
       "    </tr>\n",
       "  </tbody>\n",
       "</table>\n",
       "</div>"
      ],
      "text/plain": [
       "        house_age    dist_mrt    latitude   longitude\n",
       "count  289.000000  289.000000  289.000000  289.000000\n",
       "mean    17.882699    6.367756   24.968765  121.533449\n",
       "std     11.443929    1.124761    0.012386    0.015239\n",
       "min      0.500000    3.193880   24.932070  121.473530\n",
       "25%      9.100000    5.671000   24.962990  121.529810\n",
       "50%     16.100000    6.200978   24.970260  121.538890\n",
       "75%     28.600000    7.278136   24.977440  121.543310\n",
       "max     43.800000    8.777867   25.014590  121.561740"
      ]
     },
     "execution_count": 110,
     "metadata": {},
     "output_type": "execute_result"
    }
   ],
   "source": [
    "dist = train_X[num_cols].describe()\n",
    "dist"
   ]
  },
  {
   "cell_type": "code",
   "execution_count": 111,
   "metadata": {},
   "outputs": [],
   "source": [
    "bin_list = []\n",
    "for i in num_cols:\n",
    "    bin = [-np.inf, round(dist.iloc[4][i], 5), \n",
    "           round(dist.iloc[5][i], 5), \n",
    "           round(dist.iloc[6][i], 5), np.inf]\n",
    "    bin_list.append(bin)"
   ]
  },
  {
   "cell_type": "code",
   "execution_count": 112,
   "metadata": {},
   "outputs": [
    {
     "data": {
      "text/plain": [
       "[[-inf, 9.1, 16.1, 28.6, inf],\n",
       " [-inf, 5.671, 6.20098, 7.27814, inf],\n",
       " [-inf, 24.96299, 24.97026, 24.97744, inf],\n",
       " [-inf, 121.52981, 121.53889, 121.54331, inf]]"
      ]
     },
     "execution_count": 112,
     "metadata": {},
     "output_type": "execute_result"
    }
   ],
   "source": [
    "bin_list"
   ]
  },
  {
   "cell_type": "code",
   "execution_count": 113,
   "metadata": {},
   "outputs": [],
   "source": [
    "train_X_bin = train_X[num_cols]\n",
    "test_X_bin = test_X[num_cols]"
   ]
  },
  {
   "cell_type": "code",
   "execution_count": 114,
   "metadata": {},
   "outputs": [],
   "source": [
    "for k, i in enumerate(num_cols):\n",
    "    train_X_bin[f'{i}_bin'] = pd.cut(train_X[i], bins=bin_list[k])\n",
    "    test_X_bin[f'{i}_bin'] = pd.cut(test_X[i], bins=bin_list[k])       "
   ]
  },
  {
   "cell_type": "code",
   "execution_count": 115,
   "metadata": {},
   "outputs": [],
   "source": [
    "train_X_bin = train_X_bin.select_dtypes(include = ['category'])\n",
    "test_X_bin = test_X_bin.select_dtypes(include = ['category'])"
   ]
  },
  {
   "cell_type": "code",
   "execution_count": 116,
   "metadata": {},
   "outputs": [
    {
     "data": {
      "text/html": [
       "<div>\n",
       "<style scoped>\n",
       "    .dataframe tbody tr th:only-of-type {\n",
       "        vertical-align: middle;\n",
       "    }\n",
       "\n",
       "    .dataframe tbody tr th {\n",
       "        vertical-align: top;\n",
       "    }\n",
       "\n",
       "    .dataframe thead th {\n",
       "        text-align: right;\n",
       "    }\n",
       "</style>\n",
       "<table border=\"1\" class=\"dataframe\">\n",
       "  <thead>\n",
       "    <tr style=\"text-align: right;\">\n",
       "      <th></th>\n",
       "      <th>house_age_bin</th>\n",
       "      <th>dist_mrt_bin</th>\n",
       "      <th>latitude_bin</th>\n",
       "      <th>longitude_bin</th>\n",
       "    </tr>\n",
       "  </thead>\n",
       "  <tbody>\n",
       "    <tr>\n",
       "      <th>395</th>\n",
       "      <td>(16.1, 28.6]</td>\n",
       "      <td>(6.201, 7.278]</td>\n",
       "      <td>(24.97, 24.977]</td>\n",
       "      <td>(121.53, 121.539]</td>\n",
       "    </tr>\n",
       "    <tr>\n",
       "      <th>350</th>\n",
       "      <td>(9.1, 16.1]</td>\n",
       "      <td>(5.671, 6.201]</td>\n",
       "      <td>(24.963, 24.97]</td>\n",
       "      <td>(121.53, 121.539]</td>\n",
       "    </tr>\n",
       "    <tr>\n",
       "      <th>401</th>\n",
       "      <td>(-inf, 9.1]</td>\n",
       "      <td>(7.278, inf]</td>\n",
       "      <td>(24.963, 24.97]</td>\n",
       "      <td>(-inf, 121.53]</td>\n",
       "    </tr>\n",
       "    <tr>\n",
       "      <th>354</th>\n",
       "      <td>(9.1, 16.1]</td>\n",
       "      <td>(6.201, 7.278]</td>\n",
       "      <td>(-inf, 24.963]</td>\n",
       "      <td>(121.543, inf]</td>\n",
       "    </tr>\n",
       "    <tr>\n",
       "      <th>181</th>\n",
       "      <td>(9.1, 16.1]</td>\n",
       "      <td>(-inf, 5.671]</td>\n",
       "      <td>(24.977, inf]</td>\n",
       "      <td>(121.539, 121.543]</td>\n",
       "    </tr>\n",
       "    <tr>\n",
       "      <th>...</th>\n",
       "      <td>...</td>\n",
       "      <td>...</td>\n",
       "      <td>...</td>\n",
       "      <td>...</td>\n",
       "    </tr>\n",
       "    <tr>\n",
       "      <th>41</th>\n",
       "      <td>(16.1, 28.6]</td>\n",
       "      <td>(7.278, inf]</td>\n",
       "      <td>(-inf, 24.963]</td>\n",
       "      <td>(-inf, 121.53]</td>\n",
       "    </tr>\n",
       "    <tr>\n",
       "      <th>322</th>\n",
       "      <td>(9.1, 16.1]</td>\n",
       "      <td>(-inf, 5.671]</td>\n",
       "      <td>(24.97, 24.977]</td>\n",
       "      <td>(121.53, 121.539]</td>\n",
       "    </tr>\n",
       "    <tr>\n",
       "      <th>206</th>\n",
       "      <td>(16.1, 28.6]</td>\n",
       "      <td>(5.671, 6.201]</td>\n",
       "      <td>(24.977, inf]</td>\n",
       "      <td>(121.53, 121.539]</td>\n",
       "    </tr>\n",
       "    <tr>\n",
       "      <th>283</th>\n",
       "      <td>(28.6, inf]</td>\n",
       "      <td>(7.278, inf]</td>\n",
       "      <td>(24.977, inf]</td>\n",
       "      <td>(-inf, 121.53]</td>\n",
       "    </tr>\n",
       "    <tr>\n",
       "      <th>254</th>\n",
       "      <td>(-inf, 9.1]</td>\n",
       "      <td>(5.671, 6.201]</td>\n",
       "      <td>(24.977, inf]</td>\n",
       "      <td>(121.543, inf]</td>\n",
       "    </tr>\n",
       "  </tbody>\n",
       "</table>\n",
       "<p>289 rows × 4 columns</p>\n",
       "</div>"
      ],
      "text/plain": [
       "    house_age_bin    dist_mrt_bin     latitude_bin       longitude_bin\n",
       "395  (16.1, 28.6]  (6.201, 7.278]  (24.97, 24.977]   (121.53, 121.539]\n",
       "350   (9.1, 16.1]  (5.671, 6.201]  (24.963, 24.97]   (121.53, 121.539]\n",
       "401   (-inf, 9.1]    (7.278, inf]  (24.963, 24.97]      (-inf, 121.53]\n",
       "354   (9.1, 16.1]  (6.201, 7.278]   (-inf, 24.963]      (121.543, inf]\n",
       "181   (9.1, 16.1]   (-inf, 5.671]    (24.977, inf]  (121.539, 121.543]\n",
       "..            ...             ...              ...                 ...\n",
       "41   (16.1, 28.6]    (7.278, inf]   (-inf, 24.963]      (-inf, 121.53]\n",
       "322   (9.1, 16.1]   (-inf, 5.671]  (24.97, 24.977]   (121.53, 121.539]\n",
       "206  (16.1, 28.6]  (5.671, 6.201]    (24.977, inf]   (121.53, 121.539]\n",
       "283   (28.6, inf]    (7.278, inf]    (24.977, inf]      (-inf, 121.53]\n",
       "254   (-inf, 9.1]  (5.671, 6.201]    (24.977, inf]      (121.543, inf]\n",
       "\n",
       "[289 rows x 4 columns]"
      ]
     },
     "execution_count": 116,
     "metadata": {},
     "output_type": "execute_result"
    }
   ],
   "source": [
    "train_X_bin"
   ]
  },
  {
   "cell_type": "code",
   "execution_count": 218,
   "metadata": {},
   "outputs": [],
   "source": [
    "train_X_b = pd.concat((train_X[cat_cols], train_X_bin), axis=1)\n",
    "test_X_b = pd.concat((test_X[cat_cols], test_X_bin), axis=1)"
   ]
  },
  {
   "cell_type": "code",
   "execution_count": 219,
   "metadata": {},
   "outputs": [
    {
     "name": "stdout",
     "output_type": "stream",
     "text": [
      "<class 'pandas.core.frame.DataFrame'>\n",
      "Int64Index: 289 entries, 395 to 254\n",
      "Data columns (total 7 columns):\n",
      " #   Column         Non-Null Count  Dtype   \n",
      "---  ------         --------------  -----   \n",
      " 0   num_stores     289 non-null    category\n",
      " 1   year           289 non-null    category\n",
      " 2   month          289 non-null    category\n",
      " 3   house_age_bin  289 non-null    category\n",
      " 4   dist_mrt_bin   289 non-null    category\n",
      " 5   latitude_bin   289 non-null    category\n",
      " 6   longitude_bin  289 non-null    category\n",
      "dtypes: category(7)\n",
      "memory usage: 5.8 KB\n"
     ]
    }
   ],
   "source": [
    "train_X_b.info()"
   ]
  },
  {
   "cell_type": "code",
   "execution_count": 220,
   "metadata": {},
   "outputs": [
    {
     "data": {
      "text/html": [
       "<div>\n",
       "<style scoped>\n",
       "    .dataframe tbody tr th:only-of-type {\n",
       "        vertical-align: middle;\n",
       "    }\n",
       "\n",
       "    .dataframe tbody tr th {\n",
       "        vertical-align: top;\n",
       "    }\n",
       "\n",
       "    .dataframe thead th {\n",
       "        text-align: right;\n",
       "    }\n",
       "</style>\n",
       "<table border=\"1\" class=\"dataframe\">\n",
       "  <thead>\n",
       "    <tr style=\"text-align: right;\">\n",
       "      <th></th>\n",
       "      <th>num_stores</th>\n",
       "      <th>year</th>\n",
       "      <th>month</th>\n",
       "      <th>house_age_bin</th>\n",
       "      <th>dist_mrt_bin</th>\n",
       "      <th>latitude_bin</th>\n",
       "      <th>longitude_bin</th>\n",
       "    </tr>\n",
       "  </thead>\n",
       "  <tbody>\n",
       "    <tr>\n",
       "      <th>395</th>\n",
       "      <td>4</td>\n",
       "      <td>2012</td>\n",
       "      <td>10</td>\n",
       "      <td>(16.1, 28.6]</td>\n",
       "      <td>(6.201, 7.278]</td>\n",
       "      <td>(24.97, 24.977]</td>\n",
       "      <td>(121.53, 121.539]</td>\n",
       "    </tr>\n",
       "    <tr>\n",
       "      <th>350</th>\n",
       "      <td>5</td>\n",
       "      <td>2013</td>\n",
       "      <td>1</td>\n",
       "      <td>(9.1, 16.1]</td>\n",
       "      <td>(5.671, 6.201]</td>\n",
       "      <td>(24.963, 24.97]</td>\n",
       "      <td>(121.53, 121.539]</td>\n",
       "    </tr>\n",
       "    <tr>\n",
       "      <th>401</th>\n",
       "      <td>3</td>\n",
       "      <td>2013</td>\n",
       "      <td>1</td>\n",
       "      <td>(-inf, 9.1]</td>\n",
       "      <td>(7.278, inf]</td>\n",
       "      <td>(24.963, 24.97]</td>\n",
       "      <td>(-inf, 121.53]</td>\n",
       "    </tr>\n",
       "    <tr>\n",
       "      <th>354</th>\n",
       "      <td>1</td>\n",
       "      <td>2013</td>\n",
       "      <td>5</td>\n",
       "      <td>(9.1, 16.1]</td>\n",
       "      <td>(6.201, 7.278]</td>\n",
       "      <td>(-inf, 24.963]</td>\n",
       "      <td>(121.543, inf]</td>\n",
       "    </tr>\n",
       "    <tr>\n",
       "      <th>181</th>\n",
       "      <td>8</td>\n",
       "      <td>2013</td>\n",
       "      <td>3</td>\n",
       "      <td>(9.1, 16.1]</td>\n",
       "      <td>(-inf, 5.671]</td>\n",
       "      <td>(24.977, inf]</td>\n",
       "      <td>(121.539, 121.543]</td>\n",
       "    </tr>\n",
       "  </tbody>\n",
       "</table>\n",
       "</div>"
      ],
      "text/plain": [
       "    num_stores  year month house_age_bin    dist_mrt_bin     latitude_bin       longitude_bin\n",
       "395          4  2012    10  (16.1, 28.6]  (6.201, 7.278]  (24.97, 24.977]   (121.53, 121.539]\n",
       "350          5  2013     1   (9.1, 16.1]  (5.671, 6.201]  (24.963, 24.97]   (121.53, 121.539]\n",
       "401          3  2013     1   (-inf, 9.1]    (7.278, inf]  (24.963, 24.97]      (-inf, 121.53]\n",
       "354          1  2013     5   (9.1, 16.1]  (6.201, 7.278]   (-inf, 24.963]      (121.543, inf]\n",
       "181          8  2013     3   (9.1, 16.1]   (-inf, 5.671]    (24.977, inf]  (121.539, 121.543]"
      ]
     },
     "execution_count": 220,
     "metadata": {},
     "output_type": "execute_result"
    }
   ],
   "source": [
    "train_X_b.head()"
   ]
  },
  {
   "cell_type": "code",
   "execution_count": 221,
   "metadata": {},
   "outputs": [],
   "source": [
    "train_X_arl = pd.get_dummies(train_X_b)\n",
    "test_X_arl = pd.get_dummies(test_X_b)"
   ]
  },
  {
   "cell_type": "code",
   "execution_count": 222,
   "metadata": {},
   "outputs": [
    {
     "data": {
      "text/html": [
       "<div>\n",
       "<style scoped>\n",
       "    .dataframe tbody tr th:only-of-type {\n",
       "        vertical-align: middle;\n",
       "    }\n",
       "\n",
       "    .dataframe tbody tr th {\n",
       "        vertical-align: top;\n",
       "    }\n",
       "\n",
       "    .dataframe thead th {\n",
       "        text-align: right;\n",
       "    }\n",
       "</style>\n",
       "<table border=\"1\" class=\"dataframe\">\n",
       "  <thead>\n",
       "    <tr style=\"text-align: right;\">\n",
       "      <th></th>\n",
       "      <th>num_stores_0</th>\n",
       "      <th>num_stores_1</th>\n",
       "      <th>num_stores_2</th>\n",
       "      <th>num_stores_3</th>\n",
       "      <th>num_stores_4</th>\n",
       "      <th>num_stores_5</th>\n",
       "      <th>num_stores_6</th>\n",
       "      <th>num_stores_7</th>\n",
       "      <th>num_stores_8</th>\n",
       "      <th>num_stores_9</th>\n",
       "      <th>num_stores_10</th>\n",
       "      <th>year_2012</th>\n",
       "      <th>year_2013</th>\n",
       "      <th>month_1</th>\n",
       "      <th>month_3</th>\n",
       "      <th>month_5</th>\n",
       "      <th>month_6</th>\n",
       "      <th>month_8</th>\n",
       "      <th>month_10</th>\n",
       "      <th>house_age_bin_(-inf, 9.1]</th>\n",
       "      <th>house_age_bin_(9.1, 16.1]</th>\n",
       "      <th>house_age_bin_(16.1, 28.6]</th>\n",
       "      <th>house_age_bin_(28.6, inf]</th>\n",
       "      <th>dist_mrt_bin_(-inf, 5.671]</th>\n",
       "      <th>dist_mrt_bin_(5.671, 6.201]</th>\n",
       "      <th>dist_mrt_bin_(6.201, 7.278]</th>\n",
       "      <th>dist_mrt_bin_(7.278, inf]</th>\n",
       "      <th>latitude_bin_(-inf, 24.963]</th>\n",
       "      <th>latitude_bin_(24.963, 24.97]</th>\n",
       "      <th>latitude_bin_(24.97, 24.977]</th>\n",
       "      <th>latitude_bin_(24.977, inf]</th>\n",
       "      <th>longitude_bin_(-inf, 121.53]</th>\n",
       "      <th>longitude_bin_(121.53, 121.539]</th>\n",
       "      <th>longitude_bin_(121.539, 121.543]</th>\n",
       "      <th>longitude_bin_(121.543, inf]</th>\n",
       "    </tr>\n",
       "  </thead>\n",
       "  <tbody>\n",
       "    <tr>\n",
       "      <th>395</th>\n",
       "      <td>0</td>\n",
       "      <td>0</td>\n",
       "      <td>0</td>\n",
       "      <td>0</td>\n",
       "      <td>1</td>\n",
       "      <td>0</td>\n",
       "      <td>0</td>\n",
       "      <td>0</td>\n",
       "      <td>0</td>\n",
       "      <td>0</td>\n",
       "      <td>0</td>\n",
       "      <td>1</td>\n",
       "      <td>0</td>\n",
       "      <td>0</td>\n",
       "      <td>0</td>\n",
       "      <td>0</td>\n",
       "      <td>0</td>\n",
       "      <td>0</td>\n",
       "      <td>1</td>\n",
       "      <td>0</td>\n",
       "      <td>0</td>\n",
       "      <td>1</td>\n",
       "      <td>0</td>\n",
       "      <td>0</td>\n",
       "      <td>0</td>\n",
       "      <td>1</td>\n",
       "      <td>0</td>\n",
       "      <td>0</td>\n",
       "      <td>0</td>\n",
       "      <td>1</td>\n",
       "      <td>0</td>\n",
       "      <td>0</td>\n",
       "      <td>1</td>\n",
       "      <td>0</td>\n",
       "      <td>0</td>\n",
       "    </tr>\n",
       "    <tr>\n",
       "      <th>350</th>\n",
       "      <td>0</td>\n",
       "      <td>0</td>\n",
       "      <td>0</td>\n",
       "      <td>0</td>\n",
       "      <td>0</td>\n",
       "      <td>1</td>\n",
       "      <td>0</td>\n",
       "      <td>0</td>\n",
       "      <td>0</td>\n",
       "      <td>0</td>\n",
       "      <td>0</td>\n",
       "      <td>0</td>\n",
       "      <td>1</td>\n",
       "      <td>1</td>\n",
       "      <td>0</td>\n",
       "      <td>0</td>\n",
       "      <td>0</td>\n",
       "      <td>0</td>\n",
       "      <td>0</td>\n",
       "      <td>0</td>\n",
       "      <td>1</td>\n",
       "      <td>0</td>\n",
       "      <td>0</td>\n",
       "      <td>0</td>\n",
       "      <td>1</td>\n",
       "      <td>0</td>\n",
       "      <td>0</td>\n",
       "      <td>0</td>\n",
       "      <td>1</td>\n",
       "      <td>0</td>\n",
       "      <td>0</td>\n",
       "      <td>0</td>\n",
       "      <td>1</td>\n",
       "      <td>0</td>\n",
       "      <td>0</td>\n",
       "    </tr>\n",
       "    <tr>\n",
       "      <th>401</th>\n",
       "      <td>0</td>\n",
       "      <td>0</td>\n",
       "      <td>0</td>\n",
       "      <td>1</td>\n",
       "      <td>0</td>\n",
       "      <td>0</td>\n",
       "      <td>0</td>\n",
       "      <td>0</td>\n",
       "      <td>0</td>\n",
       "      <td>0</td>\n",
       "      <td>0</td>\n",
       "      <td>0</td>\n",
       "      <td>1</td>\n",
       "      <td>1</td>\n",
       "      <td>0</td>\n",
       "      <td>0</td>\n",
       "      <td>0</td>\n",
       "      <td>0</td>\n",
       "      <td>0</td>\n",
       "      <td>1</td>\n",
       "      <td>0</td>\n",
       "      <td>0</td>\n",
       "      <td>0</td>\n",
       "      <td>0</td>\n",
       "      <td>0</td>\n",
       "      <td>0</td>\n",
       "      <td>1</td>\n",
       "      <td>0</td>\n",
       "      <td>1</td>\n",
       "      <td>0</td>\n",
       "      <td>0</td>\n",
       "      <td>1</td>\n",
       "      <td>0</td>\n",
       "      <td>0</td>\n",
       "      <td>0</td>\n",
       "    </tr>\n",
       "    <tr>\n",
       "      <th>354</th>\n",
       "      <td>0</td>\n",
       "      <td>1</td>\n",
       "      <td>0</td>\n",
       "      <td>0</td>\n",
       "      <td>0</td>\n",
       "      <td>0</td>\n",
       "      <td>0</td>\n",
       "      <td>0</td>\n",
       "      <td>0</td>\n",
       "      <td>0</td>\n",
       "      <td>0</td>\n",
       "      <td>0</td>\n",
       "      <td>1</td>\n",
       "      <td>0</td>\n",
       "      <td>0</td>\n",
       "      <td>1</td>\n",
       "      <td>0</td>\n",
       "      <td>0</td>\n",
       "      <td>0</td>\n",
       "      <td>0</td>\n",
       "      <td>1</td>\n",
       "      <td>0</td>\n",
       "      <td>0</td>\n",
       "      <td>0</td>\n",
       "      <td>0</td>\n",
       "      <td>1</td>\n",
       "      <td>0</td>\n",
       "      <td>1</td>\n",
       "      <td>0</td>\n",
       "      <td>0</td>\n",
       "      <td>0</td>\n",
       "      <td>0</td>\n",
       "      <td>0</td>\n",
       "      <td>0</td>\n",
       "      <td>1</td>\n",
       "    </tr>\n",
       "    <tr>\n",
       "      <th>181</th>\n",
       "      <td>0</td>\n",
       "      <td>0</td>\n",
       "      <td>0</td>\n",
       "      <td>0</td>\n",
       "      <td>0</td>\n",
       "      <td>0</td>\n",
       "      <td>0</td>\n",
       "      <td>0</td>\n",
       "      <td>1</td>\n",
       "      <td>0</td>\n",
       "      <td>0</td>\n",
       "      <td>0</td>\n",
       "      <td>1</td>\n",
       "      <td>0</td>\n",
       "      <td>1</td>\n",
       "      <td>0</td>\n",
       "      <td>0</td>\n",
       "      <td>0</td>\n",
       "      <td>0</td>\n",
       "      <td>0</td>\n",
       "      <td>1</td>\n",
       "      <td>0</td>\n",
       "      <td>0</td>\n",
       "      <td>1</td>\n",
       "      <td>0</td>\n",
       "      <td>0</td>\n",
       "      <td>0</td>\n",
       "      <td>0</td>\n",
       "      <td>0</td>\n",
       "      <td>0</td>\n",
       "      <td>1</td>\n",
       "      <td>0</td>\n",
       "      <td>0</td>\n",
       "      <td>1</td>\n",
       "      <td>0</td>\n",
       "    </tr>\n",
       "  </tbody>\n",
       "</table>\n",
       "</div>"
      ],
      "text/plain": [
       "     num_stores_0  num_stores_1  num_stores_2  num_stores_3  num_stores_4  num_stores_5  \\\n",
       "395             0             0             0             0             1             0   \n",
       "350             0             0             0             0             0             1   \n",
       "401             0             0             0             1             0             0   \n",
       "354             0             1             0             0             0             0   \n",
       "181             0             0             0             0             0             0   \n",
       "\n",
       "     num_stores_6  num_stores_7  num_stores_8  num_stores_9  num_stores_10  year_2012  year_2013  \\\n",
       "395             0             0             0             0              0          1          0   \n",
       "350             0             0             0             0              0          0          1   \n",
       "401             0             0             0             0              0          0          1   \n",
       "354             0             0             0             0              0          0          1   \n",
       "181             0             0             1             0              0          0          1   \n",
       "\n",
       "     month_1  month_3  month_5  month_6  month_8  month_10  house_age_bin_(-inf, 9.1]  \\\n",
       "395        0        0        0        0        0         1                          0   \n",
       "350        1        0        0        0        0         0                          0   \n",
       "401        1        0        0        0        0         0                          1   \n",
       "354        0        0        1        0        0         0                          0   \n",
       "181        0        1        0        0        0         0                          0   \n",
       "\n",
       "     house_age_bin_(9.1, 16.1]  house_age_bin_(16.1, 28.6]  house_age_bin_(28.6, inf]  \\\n",
       "395                          0                           1                          0   \n",
       "350                          1                           0                          0   \n",
       "401                          0                           0                          0   \n",
       "354                          1                           0                          0   \n",
       "181                          1                           0                          0   \n",
       "\n",
       "     dist_mrt_bin_(-inf, 5.671]  dist_mrt_bin_(5.671, 6.201]  dist_mrt_bin_(6.201, 7.278]  \\\n",
       "395                           0                            0                            1   \n",
       "350                           0                            1                            0   \n",
       "401                           0                            0                            0   \n",
       "354                           0                            0                            1   \n",
       "181                           1                            0                            0   \n",
       "\n",
       "     dist_mrt_bin_(7.278, inf]  latitude_bin_(-inf, 24.963]  latitude_bin_(24.963, 24.97]  \\\n",
       "395                          0                            0                             0   \n",
       "350                          0                            0                             1   \n",
       "401                          1                            0                             1   \n",
       "354                          0                            1                             0   \n",
       "181                          0                            0                             0   \n",
       "\n",
       "     latitude_bin_(24.97, 24.977]  latitude_bin_(24.977, inf]  longitude_bin_(-inf, 121.53]  \\\n",
       "395                             1                           0                             0   \n",
       "350                             0                           0                             0   \n",
       "401                             0                           0                             1   \n",
       "354                             0                           0                             0   \n",
       "181                             0                           1                             0   \n",
       "\n",
       "     longitude_bin_(121.53, 121.539]  longitude_bin_(121.539, 121.543]  \\\n",
       "395                                1                                 0   \n",
       "350                                1                                 0   \n",
       "401                                0                                 0   \n",
       "354                                0                                 0   \n",
       "181                                0                                 1   \n",
       "\n",
       "     longitude_bin_(121.543, inf]  \n",
       "395                             0  \n",
       "350                             0  \n",
       "401                             0  \n",
       "354                             1  \n",
       "181                             0  "
      ]
     },
     "execution_count": 222,
     "metadata": {},
     "output_type": "execute_result"
    },
    {
     "data": {
      "text/plain": [
       "(289, 35)"
      ]
     },
     "execution_count": 222,
     "metadata": {},
     "output_type": "execute_result"
    }
   ],
   "source": [
    "train_X_arl.head()\n",
    "train_X_arl.shape"
   ]
  },
  {
   "cell_type": "markdown",
   "metadata": {},
   "source": [
    "**Apriori**"
   ]
  },
  {
   "cell_type": "code",
   "execution_count": 234,
   "metadata": {},
   "outputs": [
    {
     "data": {
      "text/html": [
       "<div>\n",
       "<style scoped>\n",
       "    .dataframe tbody tr th:only-of-type {\n",
       "        vertical-align: middle;\n",
       "    }\n",
       "\n",
       "    .dataframe tbody tr th {\n",
       "        vertical-align: top;\n",
       "    }\n",
       "\n",
       "    .dataframe thead th {\n",
       "        text-align: right;\n",
       "    }\n",
       "</style>\n",
       "<table border=\"1\" class=\"dataframe\">\n",
       "  <thead>\n",
       "    <tr style=\"text-align: right;\">\n",
       "      <th></th>\n",
       "      <th>support</th>\n",
       "      <th>itemsets</th>\n",
       "    </tr>\n",
       "  </thead>\n",
       "  <tbody>\n",
       "    <tr>\n",
       "      <th>1</th>\n",
       "      <td>0.688581</td>\n",
       "      <td>(year_2013)</td>\n",
       "    </tr>\n",
       "    <tr>\n",
       "      <th>0</th>\n",
       "      <td>0.311419</td>\n",
       "      <td>(year_2012)</td>\n",
       "    </tr>\n",
       "    <tr>\n",
       "      <th>7</th>\n",
       "      <td>0.280277</td>\n",
       "      <td>(dist_mrt_bin_(5.671, 6.201])</td>\n",
       "    </tr>\n",
       "    <tr>\n",
       "      <th>10</th>\n",
       "      <td>0.266436</td>\n",
       "      <td>(latitude_bin_(-inf, 24.963])</td>\n",
       "    </tr>\n",
       "    <tr>\n",
       "      <th>3</th>\n",
       "      <td>0.252595</td>\n",
       "      <td>(house_age_bin_(9.1, 16.1])</td>\n",
       "    </tr>\n",
       "    <tr>\n",
       "      <th>2</th>\n",
       "      <td>0.252595</td>\n",
       "      <td>(house_age_bin_(-inf, 9.1])</td>\n",
       "    </tr>\n",
       "    <tr>\n",
       "      <th>15</th>\n",
       "      <td>0.252595</td>\n",
       "      <td>(longitude_bin_(121.53, 121.539])</td>\n",
       "    </tr>\n",
       "    <tr>\n",
       "      <th>5</th>\n",
       "      <td>0.249135</td>\n",
       "      <td>(house_age_bin_(28.6, inf])</td>\n",
       "    </tr>\n",
       "    <tr>\n",
       "      <th>9</th>\n",
       "      <td>0.249135</td>\n",
       "      <td>(dist_mrt_bin_(7.278, inf])</td>\n",
       "    </tr>\n",
       "    <tr>\n",
       "      <th>12</th>\n",
       "      <td>0.249135</td>\n",
       "      <td>(latitude_bin_(24.97, 24.977])</td>\n",
       "    </tr>\n",
       "    <tr>\n",
       "      <th>13</th>\n",
       "      <td>0.249135</td>\n",
       "      <td>(latitude_bin_(24.977, inf])</td>\n",
       "    </tr>\n",
       "    <tr>\n",
       "      <th>14</th>\n",
       "      <td>0.249135</td>\n",
       "      <td>(longitude_bin_(-inf, 121.53])</td>\n",
       "    </tr>\n",
       "    <tr>\n",
       "      <th>16</th>\n",
       "      <td>0.249135</td>\n",
       "      <td>(longitude_bin_(121.539, 121.543])</td>\n",
       "    </tr>\n",
       "    <tr>\n",
       "      <th>17</th>\n",
       "      <td>0.249135</td>\n",
       "      <td>(longitude_bin_(121.543, inf])</td>\n",
       "    </tr>\n",
       "    <tr>\n",
       "      <th>4</th>\n",
       "      <td>0.245675</td>\n",
       "      <td>(house_age_bin_(16.1, 28.6])</td>\n",
       "    </tr>\n",
       "    <tr>\n",
       "      <th>6</th>\n",
       "      <td>0.242215</td>\n",
       "      <td>(dist_mrt_bin_(-inf, 5.671])</td>\n",
       "    </tr>\n",
       "    <tr>\n",
       "      <th>11</th>\n",
       "      <td>0.235294</td>\n",
       "      <td>(latitude_bin_(24.963, 24.97])</td>\n",
       "    </tr>\n",
       "    <tr>\n",
       "      <th>8</th>\n",
       "      <td>0.228374</td>\n",
       "      <td>(dist_mrt_bin_(6.201, 7.278])</td>\n",
       "    </tr>\n",
       "    <tr>\n",
       "      <th>18</th>\n",
       "      <td>0.224913</td>\n",
       "      <td>(year_2013, dist_mrt_bin_(5.671, 6.201])</td>\n",
       "    </tr>\n",
       "    <tr>\n",
       "      <th>19</th>\n",
       "      <td>0.224913</td>\n",
       "      <td>(longitude_bin_(-inf, 121.53], dist_mrt_bin_(7...</td>\n",
       "    </tr>\n",
       "  </tbody>\n",
       "</table>\n",
       "</div>"
      ],
      "text/plain": [
       "     support                                           itemsets\n",
       "1   0.688581                                        (year_2013)\n",
       "0   0.311419                                        (year_2012)\n",
       "7   0.280277                      (dist_mrt_bin_(5.671, 6.201])\n",
       "10  0.266436                      (latitude_bin_(-inf, 24.963])\n",
       "3   0.252595                        (house_age_bin_(9.1, 16.1])\n",
       "2   0.252595                        (house_age_bin_(-inf, 9.1])\n",
       "15  0.252595                  (longitude_bin_(121.53, 121.539])\n",
       "5   0.249135                        (house_age_bin_(28.6, inf])\n",
       "9   0.249135                        (dist_mrt_bin_(7.278, inf])\n",
       "12  0.249135                     (latitude_bin_(24.97, 24.977])\n",
       "13  0.249135                       (latitude_bin_(24.977, inf])\n",
       "14  0.249135                     (longitude_bin_(-inf, 121.53])\n",
       "16  0.249135                 (longitude_bin_(121.539, 121.543])\n",
       "17  0.249135                     (longitude_bin_(121.543, inf])\n",
       "4   0.245675                       (house_age_bin_(16.1, 28.6])\n",
       "6   0.242215                       (dist_mrt_bin_(-inf, 5.671])\n",
       "11  0.235294                     (latitude_bin_(24.963, 24.97])\n",
       "8   0.228374                      (dist_mrt_bin_(6.201, 7.278])\n",
       "18  0.224913           (year_2013, dist_mrt_bin_(5.671, 6.201])\n",
       "19  0.224913  (longitude_bin_(-inf, 121.53], dist_mrt_bin_(7..."
      ]
     },
     "execution_count": 234,
     "metadata": {},
     "output_type": "execute_result"
    }
   ],
   "source": [
    "apr = apriori(train_X_arl, min_support=0.22, use_colnames=True)\n",
    "apr = apr.sort_values('support', ascending=False)\n",
    "apr"
   ]
  },
  {
   "cell_type": "markdown",
   "metadata": {},
   "source": [
    "Association rules based on `confidence` metric."
   ]
  },
  {
   "cell_type": "code",
   "execution_count": 235,
   "metadata": {},
   "outputs": [
    {
     "data": {
      "text/html": [
       "<div>\n",
       "<style scoped>\n",
       "    .dataframe tbody tr th:only-of-type {\n",
       "        vertical-align: middle;\n",
       "    }\n",
       "\n",
       "    .dataframe tbody tr th {\n",
       "        vertical-align: top;\n",
       "    }\n",
       "\n",
       "    .dataframe thead th {\n",
       "        text-align: right;\n",
       "    }\n",
       "</style>\n",
       "<table border=\"1\" class=\"dataframe\">\n",
       "  <thead>\n",
       "    <tr style=\"text-align: right;\">\n",
       "      <th></th>\n",
       "      <th>antecedents</th>\n",
       "      <th>consequents</th>\n",
       "      <th>antecedent support</th>\n",
       "      <th>consequent support</th>\n",
       "      <th>support</th>\n",
       "      <th>confidence</th>\n",
       "      <th>lift</th>\n",
       "      <th>leverage</th>\n",
       "      <th>conviction</th>\n",
       "    </tr>\n",
       "  </thead>\n",
       "  <tbody>\n",
       "    <tr>\n",
       "      <th>2</th>\n",
       "      <td>(longitude_bin_(-inf, 121.53])</td>\n",
       "      <td>(dist_mrt_bin_(7.278, inf])</td>\n",
       "      <td>0.249135</td>\n",
       "      <td>0.249135</td>\n",
       "      <td>0.224913</td>\n",
       "      <td>0.902778</td>\n",
       "      <td>3.623650</td>\n",
       "      <td>0.162845</td>\n",
       "      <td>7.723183</td>\n",
       "    </tr>\n",
       "    <tr>\n",
       "      <th>3</th>\n",
       "      <td>(dist_mrt_bin_(7.278, inf])</td>\n",
       "      <td>(longitude_bin_(-inf, 121.53])</td>\n",
       "      <td>0.249135</td>\n",
       "      <td>0.249135</td>\n",
       "      <td>0.224913</td>\n",
       "      <td>0.902778</td>\n",
       "      <td>3.623650</td>\n",
       "      <td>0.162845</td>\n",
       "      <td>7.723183</td>\n",
       "    </tr>\n",
       "    <tr>\n",
       "      <th>1</th>\n",
       "      <td>(dist_mrt_bin_(5.671, 6.201])</td>\n",
       "      <td>(year_2013)</td>\n",
       "      <td>0.280277</td>\n",
       "      <td>0.688581</td>\n",
       "      <td>0.224913</td>\n",
       "      <td>0.802469</td>\n",
       "      <td>1.165395</td>\n",
       "      <td>0.031920</td>\n",
       "      <td>1.576557</td>\n",
       "    </tr>\n",
       "    <tr>\n",
       "      <th>0</th>\n",
       "      <td>(year_2013)</td>\n",
       "      <td>(dist_mrt_bin_(5.671, 6.201])</td>\n",
       "      <td>0.688581</td>\n",
       "      <td>0.280277</td>\n",
       "      <td>0.224913</td>\n",
       "      <td>0.326633</td>\n",
       "      <td>1.165395</td>\n",
       "      <td>0.031920</td>\n",
       "      <td>1.068843</td>\n",
       "    </tr>\n",
       "  </tbody>\n",
       "</table>\n",
       "</div>"
      ],
      "text/plain": [
       "                      antecedents                     consequents  antecedent support  \\\n",
       "2  (longitude_bin_(-inf, 121.53])     (dist_mrt_bin_(7.278, inf])            0.249135   \n",
       "3     (dist_mrt_bin_(7.278, inf])  (longitude_bin_(-inf, 121.53])            0.249135   \n",
       "1   (dist_mrt_bin_(5.671, 6.201])                     (year_2013)            0.280277   \n",
       "0                     (year_2013)   (dist_mrt_bin_(5.671, 6.201])            0.688581   \n",
       "\n",
       "   consequent support   support  confidence      lift  leverage  conviction  \n",
       "2            0.249135  0.224913    0.902778  3.623650  0.162845    7.723183  \n",
       "3            0.249135  0.224913    0.902778  3.623650  0.162845    7.723183  \n",
       "1            0.688581  0.224913    0.802469  1.165395  0.031920    1.576557  \n",
       "0            0.280277  0.224913    0.326633  1.165395  0.031920    1.068843  "
      ]
     },
     "execution_count": 235,
     "metadata": {},
     "output_type": "execute_result"
    }
   ],
   "source": [
    "rules = association_rules(apr, metric=\"confidence\", min_threshold=0.3)\n",
    "rules.sort_values(by=['confidence'], ascending=False)"
   ]
  },
  {
   "cell_type": "markdown",
   "metadata": {},
   "source": [
    "Extra features based on binning (except data transaction features that already exist):"
   ]
  },
  {
   "cell_type": "code",
   "execution_count": 236,
   "metadata": {},
   "outputs": [],
   "source": [
    "apr = apr[2:]\n",
    "apr = apr.reset_index()"
   ]
  },
  {
   "cell_type": "code",
   "execution_count": 237,
   "metadata": {},
   "outputs": [
    {
     "data": {
      "text/html": [
       "<div>\n",
       "<style scoped>\n",
       "    .dataframe tbody tr th:only-of-type {\n",
       "        vertical-align: middle;\n",
       "    }\n",
       "\n",
       "    .dataframe tbody tr th {\n",
       "        vertical-align: top;\n",
       "    }\n",
       "\n",
       "    .dataframe thead th {\n",
       "        text-align: right;\n",
       "    }\n",
       "</style>\n",
       "<table border=\"1\" class=\"dataframe\">\n",
       "  <thead>\n",
       "    <tr style=\"text-align: right;\">\n",
       "      <th></th>\n",
       "      <th>index</th>\n",
       "      <th>support</th>\n",
       "      <th>itemsets</th>\n",
       "    </tr>\n",
       "  </thead>\n",
       "  <tbody>\n",
       "    <tr>\n",
       "      <th>16</th>\n",
       "      <td>18</td>\n",
       "      <td>0.224913</td>\n",
       "      <td>(year_2013, dist_mrt_bin_(5.671, 6.201])</td>\n",
       "    </tr>\n",
       "    <tr>\n",
       "      <th>17</th>\n",
       "      <td>19</td>\n",
       "      <td>0.224913</td>\n",
       "      <td>(longitude_bin_(-inf, 121.53], dist_mrt_bin_(7...</td>\n",
       "    </tr>\n",
       "  </tbody>\n",
       "</table>\n",
       "</div>"
      ],
      "text/plain": [
       "    index   support                                           itemsets\n",
       "16     18  0.224913           (year_2013, dist_mrt_bin_(5.671, 6.201])\n",
       "17     19  0.224913  (longitude_bin_(-inf, 121.53], dist_mrt_bin_(7..."
      ]
     },
     "execution_count": 237,
     "metadata": {},
     "output_type": "execute_result"
    }
   ],
   "source": [
    "apr_set = apr[-2:]\n",
    "apr = apr[:-2]\n",
    "apr_set"
   ]
  },
  {
   "cell_type": "code",
   "execution_count": 238,
   "metadata": {},
   "outputs": [],
   "source": [
    "apr.itemsets = [list(x) for x in apr.itemsets]\n",
    "arl_list = list(apr.itemsets.values)"
   ]
  },
  {
   "cell_type": "code",
   "execution_count": 239,
   "metadata": {},
   "outputs": [
    {
     "data": {
      "text/plain": [
       "['dist_mrt_bin_(5.671, 6.201]',\n",
       " 'latitude_bin_(-inf, 24.963]',\n",
       " 'house_age_bin_(9.1, 16.1]',\n",
       " 'house_age_bin_(-inf, 9.1]',\n",
       " 'longitude_bin_(121.53, 121.539]',\n",
       " 'house_age_bin_(28.6, inf]',\n",
       " 'dist_mrt_bin_(7.278, inf]',\n",
       " 'latitude_bin_(24.97, 24.977]',\n",
       " 'latitude_bin_(24.977, inf]',\n",
       " 'longitude_bin_(-inf, 121.53]',\n",
       " 'longitude_bin_(121.539, 121.543]',\n",
       " 'longitude_bin_(121.543, inf]',\n",
       " 'house_age_bin_(16.1, 28.6]',\n",
       " 'dist_mrt_bin_(-inf, 5.671]',\n",
       " 'latitude_bin_(24.963, 24.97]',\n",
       " 'dist_mrt_bin_(6.201, 7.278]']"
      ]
     },
     "execution_count": 239,
     "metadata": {},
     "output_type": "execute_result"
    }
   ],
   "source": [
    "set_ones_arl = list(itertools.chain.from_iterable(arl_list))\n",
    "set_ones_arl"
   ]
  },
  {
   "cell_type": "code",
   "execution_count": 240,
   "metadata": {},
   "outputs": [],
   "source": [
    "train_X_first = train_X_arl[set_ones_arl]\n",
    "test_X_first = test_X_arl[set_ones_arl]"
   ]
  },
  {
   "cell_type": "markdown",
   "metadata": {},
   "source": [
    "New features based on association rules:"
   ]
  },
  {
   "cell_type": "code",
   "execution_count": 241,
   "metadata": {},
   "outputs": [],
   "source": [
    "apr_set.itemsets = [list(x) for x in apr_set.itemsets]\n",
    "apr_set_list = list(apr_set.itemsets.values)"
   ]
  },
  {
   "cell_type": "code",
   "execution_count": 242,
   "metadata": {},
   "outputs": [
    {
     "data": {
      "text/plain": [
       "['year_2013',\n",
       " 'dist_mrt_bin_(5.671, 6.201]',\n",
       " 'longitude_bin_(-inf, 121.53]',\n",
       " 'dist_mrt_bin_(7.278, inf]']"
      ]
     },
     "execution_count": 242,
     "metadata": {},
     "output_type": "execute_result"
    }
   ],
   "source": [
    "set_two_arl = list(itertools.chain.from_iterable(apr_set_list))\n",
    "set_two_arl"
   ]
  },
  {
   "cell_type": "code",
   "execution_count": 243,
   "metadata": {},
   "outputs": [],
   "source": [
    "train_X_second = train_X_arl[set_two_arl]\n",
    "test_X_second = test_X_arl[set_two_arl]"
   ]
  },
  {
   "cell_type": "code",
   "execution_count": 244,
   "metadata": {},
   "outputs": [],
   "source": [
    "train_X_second[\n",
    "    'year_2013_dist_mrt_bin_1'] = train_X_second['year_2013'] + train_X_second['dist_mrt_bin_(5.671, 6.201]']\n",
    "train_X_second[\n",
    "    'long_bin_1_dist_mrt_bin_3'] = train_X_second['longitude_bin_(-inf, 121.53]'] + train_X_second['dist_mrt_bin_(7.278, inf]']\n",
    "\n",
    "test_X_second[\n",
    "    'year_2013_dist_mrt_bin_1'] = test_X_second['year_2013'] + test_X_second['dist_mrt_bin_(5.671, 6.201]']\n",
    "test_X_second[\n",
    "    'long_bin_1_dist_mrt_bin_3'] = test_X_second['longitude_bin_(-inf, 121.53]'] + test_X_second['dist_mrt_bin_(7.278, inf]']"
   ]
  },
  {
   "cell_type": "code",
   "execution_count": 245,
   "metadata": {},
   "outputs": [
    {
     "name": "stdout",
     "output_type": "stream",
     "text": [
      "<class 'pandas.core.frame.DataFrame'>\n",
      "Int64Index: 289 entries, 395 to 254\n",
      "Data columns (total 2 columns):\n",
      " #   Column                     Non-Null Count  Dtype\n",
      "---  ------                     --------------  -----\n",
      " 0   year_2013_dist_mrt_bin_1   289 non-null    uint8\n",
      " 1   long_bin_1_dist_mrt_bin_3  289 non-null    uint8\n",
      "dtypes: uint8(2)\n",
      "memory usage: 2.8 KB\n"
     ]
    }
   ],
   "source": [
    "train_X_second = train_X_second[['year_2013_dist_mrt_bin_1',\n",
    "                               'long_bin_1_dist_mrt_bin_3']]\n",
    "test_X_second = test_X_second[['year_2013_dist_mrt_bin_1',\n",
    "                               'long_bin_1_dist_mrt_bin_3']]\n",
    "train_X_second.info()"
   ]
  },
  {
   "cell_type": "code",
   "execution_count": 246,
   "metadata": {},
   "outputs": [],
   "source": [
    "train_X_second['year_2013_dist_mrt_bin_1'] = train_X_second[\n",
    "    'year_2013_dist_mrt_bin_1'].astype('category')\n",
    "train_X_second['long_bin_1_dist_mrt_bin_3'] = train_X_second[\n",
    "    'long_bin_1_dist_mrt_bin_3'].astype('category')\n",
    "\n",
    "test_X_second['year_2013_dist_mrt_bin_1'] = test_X_second[\n",
    "    'year_2013_dist_mrt_bin_1'].astype('category')\n",
    "test_X_second['long_bin_1_dist_mrt_bin_3'] = test_X_second[\n",
    "    'long_bin_1_dist_mrt_bin_3'].astype('category')"
   ]
  },
  {
   "cell_type": "code",
   "execution_count": 247,
   "metadata": {},
   "outputs": [],
   "source": [
    "train_X_second = pd.get_dummies(train_X_second)\n",
    "test_X_second = pd.get_dummies(test_X_second)"
   ]
  },
  {
   "cell_type": "code",
   "execution_count": 248,
   "metadata": {},
   "outputs": [
    {
     "data": {
      "text/plain": [
       "(124, 6)"
      ]
     },
     "execution_count": 248,
     "metadata": {},
     "output_type": "execute_result"
    }
   ],
   "source": [
    "test_X_second.shape"
   ]
  },
  {
   "cell_type": "code",
   "execution_count": 249,
   "metadata": {},
   "outputs": [],
   "source": [
    "train_X_add = pd.concat((train_X_first, train_X_second), axis=1)\n",
    "test_X_add = pd.concat((test_X_first, test_X_second), axis=1)"
   ]
  },
  {
   "cell_type": "code",
   "execution_count": 250,
   "metadata": {},
   "outputs": [
    {
     "data": {
      "text/plain": [
       "(289, 22)"
      ]
     },
     "execution_count": 250,
     "metadata": {},
     "output_type": "execute_result"
    },
    {
     "data": {
      "text/plain": [
       "(124, 22)"
      ]
     },
     "execution_count": 250,
     "metadata": {},
     "output_type": "execute_result"
    }
   ],
   "source": [
    "train_X_add.shape\n",
    "test_X_add.shape"
   ]
  },
  {
   "cell_type": "code",
   "execution_count": 251,
   "metadata": {},
   "outputs": [],
   "source": [
    "# All together\n",
    "X_train_all = pd.concat((X_train_alfa, train_X_add), axis=1)\n",
    "X_test_all = pd.concat((X_test_alfa, test_X_add), axis=1)"
   ]
  },
  {
   "cell_type": "code",
   "execution_count": 252,
   "metadata": {},
   "outputs": [
    {
     "data": {
      "text/plain": [
       "(289, 45)"
      ]
     },
     "execution_count": 252,
     "metadata": {},
     "output_type": "execute_result"
    },
    {
     "data": {
      "text/html": [
       "<div>\n",
       "<style scoped>\n",
       "    .dataframe tbody tr th:only-of-type {\n",
       "        vertical-align: middle;\n",
       "    }\n",
       "\n",
       "    .dataframe tbody tr th {\n",
       "        vertical-align: top;\n",
       "    }\n",
       "\n",
       "    .dataframe thead th {\n",
       "        text-align: right;\n",
       "    }\n",
       "</style>\n",
       "<table border=\"1\" class=\"dataframe\">\n",
       "  <thead>\n",
       "    <tr style=\"text-align: right;\">\n",
       "      <th></th>\n",
       "      <th>house_age</th>\n",
       "      <th>dist_mrt</th>\n",
       "      <th>latitude</th>\n",
       "      <th>longitude</th>\n",
       "      <th>num_stores_0</th>\n",
       "      <th>num_stores_1</th>\n",
       "      <th>num_stores_2</th>\n",
       "      <th>num_stores_3</th>\n",
       "      <th>num_stores_4</th>\n",
       "      <th>num_stores_5</th>\n",
       "      <th>num_stores_6</th>\n",
       "      <th>num_stores_7</th>\n",
       "      <th>num_stores_8</th>\n",
       "      <th>num_stores_9</th>\n",
       "      <th>num_stores_10</th>\n",
       "      <th>year_2012</th>\n",
       "      <th>year_2013</th>\n",
       "      <th>month_1</th>\n",
       "      <th>month_3</th>\n",
       "      <th>month_5</th>\n",
       "      <th>...</th>\n",
       "      <th>house_age_bin_(9.1, 16.1]</th>\n",
       "      <th>house_age_bin_(-inf, 9.1]</th>\n",
       "      <th>longitude_bin_(121.53, 121.539]</th>\n",
       "      <th>house_age_bin_(28.6, inf]</th>\n",
       "      <th>dist_mrt_bin_(7.278, inf]</th>\n",
       "      <th>latitude_bin_(24.97, 24.977]</th>\n",
       "      <th>latitude_bin_(24.977, inf]</th>\n",
       "      <th>longitude_bin_(-inf, 121.53]</th>\n",
       "      <th>longitude_bin_(121.539, 121.543]</th>\n",
       "      <th>longitude_bin_(121.543, inf]</th>\n",
       "      <th>house_age_bin_(16.1, 28.6]</th>\n",
       "      <th>dist_mrt_bin_(-inf, 5.671]</th>\n",
       "      <th>latitude_bin_(24.963, 24.97]</th>\n",
       "      <th>dist_mrt_bin_(6.201, 7.278]</th>\n",
       "      <th>year_2013_dist_mrt_bin_1_0</th>\n",
       "      <th>year_2013_dist_mrt_bin_1_1</th>\n",
       "      <th>year_2013_dist_mrt_bin_1_2</th>\n",
       "      <th>long_bin_1_dist_mrt_bin_3_0</th>\n",
       "      <th>long_bin_1_dist_mrt_bin_3_1</th>\n",
       "      <th>long_bin_1_dist_mrt_bin_3_2</th>\n",
       "    </tr>\n",
       "  </thead>\n",
       "  <tbody>\n",
       "    <tr>\n",
       "      <th>395</th>\n",
       "      <td>0.478060</td>\n",
       "      <td>0.545751</td>\n",
       "      <td>0.508119</td>\n",
       "      <td>0.735631</td>\n",
       "      <td>0</td>\n",
       "      <td>0</td>\n",
       "      <td>0</td>\n",
       "      <td>0</td>\n",
       "      <td>1</td>\n",
       "      <td>0</td>\n",
       "      <td>0</td>\n",
       "      <td>0</td>\n",
       "      <td>0</td>\n",
       "      <td>0</td>\n",
       "      <td>0</td>\n",
       "      <td>1</td>\n",
       "      <td>0</td>\n",
       "      <td>0</td>\n",
       "      <td>0</td>\n",
       "      <td>0</td>\n",
       "      <td>...</td>\n",
       "      <td>0</td>\n",
       "      <td>0</td>\n",
       "      <td>1</td>\n",
       "      <td>0</td>\n",
       "      <td>0</td>\n",
       "      <td>1</td>\n",
       "      <td>0</td>\n",
       "      <td>0</td>\n",
       "      <td>0</td>\n",
       "      <td>0</td>\n",
       "      <td>1</td>\n",
       "      <td>0</td>\n",
       "      <td>0</td>\n",
       "      <td>1</td>\n",
       "      <td>1</td>\n",
       "      <td>0</td>\n",
       "      <td>0</td>\n",
       "      <td>1</td>\n",
       "      <td>0</td>\n",
       "      <td>0</td>\n",
       "    </tr>\n",
       "    <tr>\n",
       "      <th>350</th>\n",
       "      <td>0.293303</td>\n",
       "      <td>0.538522</td>\n",
       "      <td>0.400873</td>\n",
       "      <td>0.723727</td>\n",
       "      <td>0</td>\n",
       "      <td>0</td>\n",
       "      <td>0</td>\n",
       "      <td>0</td>\n",
       "      <td>0</td>\n",
       "      <td>1</td>\n",
       "      <td>0</td>\n",
       "      <td>0</td>\n",
       "      <td>0</td>\n",
       "      <td>0</td>\n",
       "      <td>0</td>\n",
       "      <td>0</td>\n",
       "      <td>1</td>\n",
       "      <td>1</td>\n",
       "      <td>0</td>\n",
       "      <td>0</td>\n",
       "      <td>...</td>\n",
       "      <td>1</td>\n",
       "      <td>0</td>\n",
       "      <td>1</td>\n",
       "      <td>0</td>\n",
       "      <td>0</td>\n",
       "      <td>0</td>\n",
       "      <td>0</td>\n",
       "      <td>0</td>\n",
       "      <td>0</td>\n",
       "      <td>0</td>\n",
       "      <td>0</td>\n",
       "      <td>0</td>\n",
       "      <td>1</td>\n",
       "      <td>0</td>\n",
       "      <td>0</td>\n",
       "      <td>0</td>\n",
       "      <td>1</td>\n",
       "      <td>1</td>\n",
       "      <td>0</td>\n",
       "      <td>0</td>\n",
       "    </tr>\n",
       "    <tr>\n",
       "      <th>401</th>\n",
       "      <td>0.163972</td>\n",
       "      <td>0.804332</td>\n",
       "      <td>0.375424</td>\n",
       "      <td>0.442240</td>\n",
       "      <td>0</td>\n",
       "      <td>0</td>\n",
       "      <td>0</td>\n",
       "      <td>1</td>\n",
       "      <td>0</td>\n",
       "      <td>0</td>\n",
       "      <td>0</td>\n",
       "      <td>0</td>\n",
       "      <td>0</td>\n",
       "      <td>0</td>\n",
       "      <td>0</td>\n",
       "      <td>0</td>\n",
       "      <td>1</td>\n",
       "      <td>1</td>\n",
       "      <td>0</td>\n",
       "      <td>0</td>\n",
       "      <td>...</td>\n",
       "      <td>0</td>\n",
       "      <td>1</td>\n",
       "      <td>0</td>\n",
       "      <td>0</td>\n",
       "      <td>1</td>\n",
       "      <td>0</td>\n",
       "      <td>0</td>\n",
       "      <td>1</td>\n",
       "      <td>0</td>\n",
       "      <td>0</td>\n",
       "      <td>0</td>\n",
       "      <td>0</td>\n",
       "      <td>1</td>\n",
       "      <td>0</td>\n",
       "      <td>0</td>\n",
       "      <td>1</td>\n",
       "      <td>0</td>\n",
       "      <td>0</td>\n",
       "      <td>0</td>\n",
       "      <td>1</td>\n",
       "    </tr>\n",
       "    <tr>\n",
       "      <th>354</th>\n",
       "      <td>0.270208</td>\n",
       "      <td>0.720309</td>\n",
       "      <td>0.242002</td>\n",
       "      <td>0.848997</td>\n",
       "      <td>0</td>\n",
       "      <td>1</td>\n",
       "      <td>0</td>\n",
       "      <td>0</td>\n",
       "      <td>0</td>\n",
       "      <td>0</td>\n",
       "      <td>0</td>\n",
       "      <td>0</td>\n",
       "      <td>0</td>\n",
       "      <td>0</td>\n",
       "      <td>0</td>\n",
       "      <td>0</td>\n",
       "      <td>1</td>\n",
       "      <td>0</td>\n",
       "      <td>0</td>\n",
       "      <td>1</td>\n",
       "      <td>...</td>\n",
       "      <td>1</td>\n",
       "      <td>0</td>\n",
       "      <td>0</td>\n",
       "      <td>0</td>\n",
       "      <td>0</td>\n",
       "      <td>0</td>\n",
       "      <td>0</td>\n",
       "      <td>0</td>\n",
       "      <td>0</td>\n",
       "      <td>1</td>\n",
       "      <td>0</td>\n",
       "      <td>0</td>\n",
       "      <td>0</td>\n",
       "      <td>1</td>\n",
       "      <td>0</td>\n",
       "      <td>1</td>\n",
       "      <td>0</td>\n",
       "      <td>1</td>\n",
       "      <td>0</td>\n",
       "      <td>0</td>\n",
       "    </tr>\n",
       "    <tr>\n",
       "      <th>181</th>\n",
       "      <td>0.256351</td>\n",
       "      <td>0.379443</td>\n",
       "      <td>0.640087</td>\n",
       "      <td>0.767260</td>\n",
       "      <td>0</td>\n",
       "      <td>0</td>\n",
       "      <td>0</td>\n",
       "      <td>0</td>\n",
       "      <td>0</td>\n",
       "      <td>0</td>\n",
       "      <td>0</td>\n",
       "      <td>0</td>\n",
       "      <td>1</td>\n",
       "      <td>0</td>\n",
       "      <td>0</td>\n",
       "      <td>0</td>\n",
       "      <td>1</td>\n",
       "      <td>0</td>\n",
       "      <td>1</td>\n",
       "      <td>0</td>\n",
       "      <td>...</td>\n",
       "      <td>1</td>\n",
       "      <td>0</td>\n",
       "      <td>0</td>\n",
       "      <td>0</td>\n",
       "      <td>0</td>\n",
       "      <td>0</td>\n",
       "      <td>1</td>\n",
       "      <td>0</td>\n",
       "      <td>1</td>\n",
       "      <td>0</td>\n",
       "      <td>0</td>\n",
       "      <td>1</td>\n",
       "      <td>0</td>\n",
       "      <td>0</td>\n",
       "      <td>0</td>\n",
       "      <td>1</td>\n",
       "      <td>0</td>\n",
       "      <td>1</td>\n",
       "      <td>0</td>\n",
       "      <td>0</td>\n",
       "    </tr>\n",
       "  </tbody>\n",
       "</table>\n",
       "<p>5 rows × 45 columns</p>\n",
       "</div>"
      ],
      "text/plain": [
       "     house_age  dist_mrt  latitude  longitude  num_stores_0  num_stores_1  num_stores_2  \\\n",
       "395   0.478060  0.545751  0.508119   0.735631             0             0             0   \n",
       "350   0.293303  0.538522  0.400873   0.723727             0             0             0   \n",
       "401   0.163972  0.804332  0.375424   0.442240             0             0             0   \n",
       "354   0.270208  0.720309  0.242002   0.848997             0             1             0   \n",
       "181   0.256351  0.379443  0.640087   0.767260             0             0             0   \n",
       "\n",
       "     num_stores_3  num_stores_4  num_stores_5  num_stores_6  num_stores_7  num_stores_8  \\\n",
       "395             0             1             0             0             0             0   \n",
       "350             0             0             1             0             0             0   \n",
       "401             1             0             0             0             0             0   \n",
       "354             0             0             0             0             0             0   \n",
       "181             0             0             0             0             0             1   \n",
       "\n",
       "     num_stores_9  num_stores_10  year_2012  year_2013  month_1  month_3  month_5  ...  \\\n",
       "395             0              0          1          0        0        0        0  ...   \n",
       "350             0              0          0          1        1        0        0  ...   \n",
       "401             0              0          0          1        1        0        0  ...   \n",
       "354             0              0          0          1        0        0        1  ...   \n",
       "181             0              0          0          1        0        1        0  ...   \n",
       "\n",
       "     house_age_bin_(9.1, 16.1]  house_age_bin_(-inf, 9.1]  longitude_bin_(121.53, 121.539]  \\\n",
       "395                          0                          0                                1   \n",
       "350                          1                          0                                1   \n",
       "401                          0                          1                                0   \n",
       "354                          1                          0                                0   \n",
       "181                          1                          0                                0   \n",
       "\n",
       "     house_age_bin_(28.6, inf]  dist_mrt_bin_(7.278, inf]  latitude_bin_(24.97, 24.977]  \\\n",
       "395                          0                          0                             1   \n",
       "350                          0                          0                             0   \n",
       "401                          0                          1                             0   \n",
       "354                          0                          0                             0   \n",
       "181                          0                          0                             0   \n",
       "\n",
       "     latitude_bin_(24.977, inf]  longitude_bin_(-inf, 121.53]  longitude_bin_(121.539, 121.543]  \\\n",
       "395                           0                             0                                 0   \n",
       "350                           0                             0                                 0   \n",
       "401                           0                             1                                 0   \n",
       "354                           0                             0                                 0   \n",
       "181                           1                             0                                 1   \n",
       "\n",
       "     longitude_bin_(121.543, inf]  house_age_bin_(16.1, 28.6]  dist_mrt_bin_(-inf, 5.671]  \\\n",
       "395                             0                           1                           0   \n",
       "350                             0                           0                           0   \n",
       "401                             0                           0                           0   \n",
       "354                             1                           0                           0   \n",
       "181                             0                           0                           1   \n",
       "\n",
       "     latitude_bin_(24.963, 24.97]  dist_mrt_bin_(6.201, 7.278]  year_2013_dist_mrt_bin_1_0  \\\n",
       "395                             0                            1                           1   \n",
       "350                             1                            0                           0   \n",
       "401                             1                            0                           0   \n",
       "354                             0                            1                           0   \n",
       "181                             0                            0                           0   \n",
       "\n",
       "     year_2013_dist_mrt_bin_1_1  year_2013_dist_mrt_bin_1_2  long_bin_1_dist_mrt_bin_3_0  \\\n",
       "395                           0                           0                            1   \n",
       "350                           0                           1                            1   \n",
       "401                           1                           0                            0   \n",
       "354                           1                           0                            1   \n",
       "181                           1                           0                            1   \n",
       "\n",
       "     long_bin_1_dist_mrt_bin_3_1  long_bin_1_dist_mrt_bin_3_2  \n",
       "395                            0                            0  \n",
       "350                            0                            0  \n",
       "401                            0                            1  \n",
       "354                            0                            0  \n",
       "181                            0                            0  \n",
       "\n",
       "[5 rows x 45 columns]"
      ]
     },
     "execution_count": 252,
     "metadata": {},
     "output_type": "execute_result"
    }
   ],
   "source": [
    "X_train_all.shape\n",
    "X_train_all.head()"
   ]
  },
  {
   "cell_type": "code",
   "execution_count": 253,
   "metadata": {},
   "outputs": [
    {
     "data": {
      "text/plain": [
       "164"
      ]
     },
     "execution_count": 253,
     "metadata": {},
     "output_type": "execute_result"
    }
   ],
   "source": [
    "gc.collect()"
   ]
  },
  {
   "cell_type": "markdown",
   "metadata": {},
   "source": [
    "### Modeling with Extra Features"
   ]
  },
  {
   "cell_type": "code",
   "execution_count": 254,
   "metadata": {},
   "outputs": [],
   "source": [
    "regr = LinearRegression()\n",
    "lr_model = regr.fit(X_train_all, train_y)"
   ]
  },
  {
   "cell_type": "code",
   "execution_count": 256,
   "metadata": {},
   "outputs": [
    {
     "name": "stdout",
     "output_type": "stream",
     "text": [
      "Coefficients: \n",
      " [-4.38818552e+00 -2.71331841e+01 -1.14516485e+01  9.86828327e+00\n",
      "  4.30712798e+12  4.30712798e+12  4.30712798e+12  4.30712798e+12\n",
      "  4.30712798e+12  4.30712798e+12  4.30712798e+12  4.30712798e+12\n",
      "  4.30712798e+12  4.30712798e+12  4.30712798e+12 -1.28738137e+13\n",
      " -1.07539947e+13  3.58424989e+12  3.58424989e+12  3.58424989e+12\n",
      "  3.58424989e+12  2.07154764e+12  2.07154764e+12  3.14731456e+11\n",
      " -3.51154323e+12  4.43263363e+12  4.43263363e+12 -5.31830725e+12\n",
      "  4.43263363e+12 -1.07093227e+13 -3.51154323e+12 -3.51154323e+12\n",
      " -1.27098402e+13 -5.31830725e+12 -5.31830725e+12  4.43263363e+12\n",
      " -3.31778976e+12 -3.51154323e+12 -3.31778976e+12  1.37531665e+12\n",
      " -2.25720456e+12 -5.88972578e+12 -9.75907632e+12 -2.36754337e+12\n",
      "  5.02398958e+12] \n",
      "\n",
      "Mean squared error: 48.31 \n",
      "\n",
      "R2: 0.737\n"
     ]
    }
   ],
   "source": [
    "pred_y = lr_model.predict(X_test_all)\n",
    "\n",
    "print('Coefficients: \\n', regr.coef_, '\\n')\n",
    "print('Mean squared error: %.2f \\n'\n",
    "      % mean_squared_error(test_y, pred_y))\n",
    "print('R2: %.3f'\n",
    "      % r2_score(test_y, pred_y))"
   ]
  },
  {
   "cell_type": "markdown",
   "metadata": {},
   "source": [
    "**LinearRegression** with extra features:\n",
    "* `Mean squared error` decreased from **52.97** to **48.32**.\n",
    "* `R2` increased from **0.711*** to **to 0.737**."
   ]
  },
  {
   "cell_type": "markdown",
   "metadata": {},
   "source": [
    "**RandomForestRegressor**"
   ]
  },
  {
   "cell_type": "code",
   "execution_count": 261,
   "metadata": {},
   "outputs": [
    {
     "data": {
      "text/plain": [
       "RandomForestRegressor(bootstrap=True, criterion='mse', max_depth=None,\n",
       "                      max_features='auto', max_leaf_nodes=None,\n",
       "                      min_impurity_decrease=0.0, min_impurity_split=None,\n",
       "                      min_samples_leaf=1, min_samples_split=2,\n",
       "                      min_weight_fraction_leaf=0.0, n_estimators=600,\n",
       "                      n_jobs=None, oob_score=False, random_state=42, verbose=0,\n",
       "                      warm_start=False)"
      ]
     },
     "execution_count": 261,
     "metadata": {},
     "output_type": "execute_result"
    }
   ],
   "source": [
    "rf = RandomForestRegressor(n_estimators=600, random_state=42)\n",
    "rf.fit(X_train_alfa, train_y)"
   ]
  },
  {
   "cell_type": "code",
   "execution_count": 262,
   "metadata": {},
   "outputs": [
    {
     "name": "stdout",
     "output_type": "stream",
     "text": [
      "Mean squared error: 31.12 \n",
      "\n",
      "R2: 0.830\n"
     ]
    }
   ],
   "source": [
    "pred_rf_y = rf.predict(X_test_alfa)\n",
    "\n",
    "print('Mean squared error: %.2f \\n'\n",
    "      % mean_squared_error(test_y, pred_rf_y))\n",
    "print('R2: %.3f'\n",
    "      % r2_score(test_y, pred_rf_y))"
   ]
  },
  {
   "cell_type": "markdown",
   "metadata": {},
   "source": [
    "**RandomForestRegressor with extra features**"
   ]
  },
  {
   "cell_type": "code",
   "execution_count": 263,
   "metadata": {},
   "outputs": [
    {
     "data": {
      "text/plain": [
       "RandomForestRegressor(bootstrap=True, criterion='mse', max_depth=None,\n",
       "                      max_features='auto', max_leaf_nodes=None,\n",
       "                      min_impurity_decrease=0.0, min_impurity_split=None,\n",
       "                      min_samples_leaf=1, min_samples_split=2,\n",
       "                      min_weight_fraction_leaf=0.0, n_estimators=600,\n",
       "                      n_jobs=None, oob_score=False, random_state=42, verbose=0,\n",
       "                      warm_start=False)"
      ]
     },
     "execution_count": 263,
     "metadata": {},
     "output_type": "execute_result"
    }
   ],
   "source": [
    "rf = RandomForestRegressor(n_estimators=600, random_state=42)\n",
    "rf.fit(X_train_all, train_y)"
   ]
  },
  {
   "cell_type": "code",
   "execution_count": 264,
   "metadata": {},
   "outputs": [
    {
     "name": "stdout",
     "output_type": "stream",
     "text": [
      "Mean squared error: 30.85 \n",
      "\n",
      "R2: 0.832\n"
     ]
    }
   ],
   "source": [
    "pred_rf_y = rf.predict(X_test_all)\n",
    "\n",
    "print('Mean squared error: %.2f \\n'\n",
    "      % mean_squared_error(test_y, pred_rf_y))\n",
    "print('R2: %.3f'\n",
    "      % r2_score(test_y, pred_rf_y))"
   ]
  },
  {
   "cell_type": "code",
   "execution_count": null,
   "metadata": {},
   "outputs": [],
   "source": []
  }
 ],
 "metadata": {
  "kernelspec": {
   "display_name": "Python 3",
   "language": "python",
   "name": "python3"
  },
  "language_info": {
   "codemirror_mode": {
    "name": "ipython",
    "version": 3
   },
   "file_extension": ".py",
   "mimetype": "text/x-python",
   "name": "python",
   "nbconvert_exporter": "python",
   "pygments_lexer": "ipython3",
   "version": "3.7.7"
  },
  "varInspector": {
   "cols": {
    "lenName": 16,
    "lenType": 16,
    "lenVar": 40
   },
   "kernels_config": {
    "python": {
     "delete_cmd_postfix": "",
     "delete_cmd_prefix": "del ",
     "library": "var_list.py",
     "varRefreshCmd": "print(var_dic_list())"
    },
    "r": {
     "delete_cmd_postfix": ") ",
     "delete_cmd_prefix": "rm(",
     "library": "var_list.r",
     "varRefreshCmd": "cat(var_dic_list()) "
    }
   },
   "types_to_exclude": [
    "module",
    "function",
    "builtin_function_or_method",
    "instance",
    "_Feature"
   ],
   "window_display": false
  }
 },
 "nbformat": 4,
 "nbformat_minor": 2
}
